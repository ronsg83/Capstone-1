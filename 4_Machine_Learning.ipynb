{
 "cells": [
  {
   "cell_type": "code",
   "execution_count": 41,
   "metadata": {},
   "outputs": [],
   "source": [
    "# import necessary libraries\n",
    "import pandas as pd\n",
    "import collections\n",
    "import numpy as np\n",
    "import requests\n",
    "import wikipedia\n",
    "import re\n",
    "import matplotlib.pyplot as plt\n",
    "import seaborn as sns\n",
    "from bs4 import BeautifulSoup\n",
    "from urllib.request import urlopen\n",
    "from scrapy import selector\n",
    "import datetime as dt\n",
    "import pickle\n",
    "from skimage import io\n",
    "from IPython.display import clear_output\n",
    "%matplotlib inline\n",
    "\n",
    "\n",
    "# scikit learn\n",
    "from sklearn.linear_model import LogisticRegression\n",
    "from sklearn.model_selection import train_test_split\n",
    "from sklearn.metrics import classification_report \n",
    "from sklearn.metrics import confusion_matrix\n",
    "from sklearn.neighbors import KNeighborsClassifier\n",
    "from sklearn.model_selection import GridSearchCV \n",
    "from sklearn.naive_bayes import GaussianNB\n",
    "from sklearn.ensemble import RandomForestClassifier\n",
    "from sklearn.tree import DecisionTreeRegressor  \n",
    "from sklearn.ensemble import AdaBoostClassifier\n",
    "from sklearn.ensemble import BaggingClassifier\n",
    "from sklearn.neural_network import MLPClassifier\n"
   ]
  },
  {
   "cell_type": "code",
   "execution_count": 2,
   "metadata": {},
   "outputs": [
    {
     "name": "stdout",
     "output_type": "stream",
     "text": [
      "Award columns:\n",
      " ['actor', 'actress', 'art_direction', 'cinematography', 'costume', 'director', 'editing', 'effects', 'music', 'picture', 's_actor', 's_actress', 'screenplay', 'song', 'sound']\n",
      "(4581, 49)\n",
      "(157, 50)\n",
      "\n",
      "Columns:\n",
      " Index(['imdbID', 'title', 'year', 'n_votes', 'imdb_rating', 'budget',\n",
      "       'box_office', 'cast', 'genre', 'running_time', 'inflation_factor',\n",
      "       'budget_adjusted', 'budget_per_actor', 'budget_per_time',\n",
      "       'runtime_per_actor', 'percent_revenue', 'total_ratings', 'sup', 'hor',\n",
      "       'com', 'spy', 'his', 'war', 'psy', 'rom', 'mon', 'fan', 'mus', 'pol',\n",
      "       'bio', 'sci', 'act', 'dra', 'dis', 'adv', 'mys', 'thr', 'dys', 'cri',\n",
      "       'epi', 'oth', 'ani', 'based_on_book', 'prescore', 'postscore',\n",
      "       'precount_wins', 'precount_noms', 'win', 'nom'],\n",
      "      dtype='object')\n"
     ]
    },
    {
     "data": {
      "text/html": [
       "<div>\n",
       "<style scoped>\n",
       "    .dataframe tbody tr th:only-of-type {\n",
       "        vertical-align: middle;\n",
       "    }\n",
       "\n",
       "    .dataframe tbody tr th {\n",
       "        vertical-align: top;\n",
       "    }\n",
       "\n",
       "    .dataframe thead th {\n",
       "        text-align: right;\n",
       "    }\n",
       "</style>\n",
       "<table border=\"1\" class=\"dataframe\">\n",
       "  <thead>\n",
       "    <tr style=\"text-align: right;\">\n",
       "      <th></th>\n",
       "      <th>imdbID</th>\n",
       "      <th>title</th>\n",
       "      <th>year</th>\n",
       "      <th>n_votes</th>\n",
       "      <th>imdb_rating</th>\n",
       "      <th>budget</th>\n",
       "      <th>box_office</th>\n",
       "      <th>cast</th>\n",
       "      <th>genre</th>\n",
       "      <th>running_time</th>\n",
       "      <th>...</th>\n",
       "      <th>epi</th>\n",
       "      <th>oth</th>\n",
       "      <th>ani</th>\n",
       "      <th>based_on_book</th>\n",
       "      <th>prescore</th>\n",
       "      <th>postscore</th>\n",
       "      <th>precount_wins</th>\n",
       "      <th>precount_noms</th>\n",
       "      <th>win</th>\n",
       "      <th>nom</th>\n",
       "    </tr>\n",
       "  </thead>\n",
       "  <tbody>\n",
       "    <tr>\n",
       "      <td>0</td>\n",
       "      <td>tt0097626</td>\n",
       "      <td>johnny handsome</td>\n",
       "      <td>1989</td>\n",
       "      <td>8324</td>\n",
       "      <td>6.2</td>\n",
       "      <td>20.0</td>\n",
       "      <td>7.24</td>\n",
       "      <td>7</td>\n",
       "      <td>3</td>\n",
       "      <td>96</td>\n",
       "      <td>...</td>\n",
       "      <td>0</td>\n",
       "      <td>0</td>\n",
       "      <td>0</td>\n",
       "      <td>1.0</td>\n",
       "      <td>0.4</td>\n",
       "      <td>0.0</td>\n",
       "      <td>0</td>\n",
       "      <td>2</td>\n",
       "      <td>0</td>\n",
       "      <td>0</td>\n",
       "    </tr>\n",
       "    <tr>\n",
       "      <td>1</td>\n",
       "      <td>tt0120903</td>\n",
       "      <td>x-men</td>\n",
       "      <td>2000</td>\n",
       "      <td>545484</td>\n",
       "      <td>7.4</td>\n",
       "      <td>75.0</td>\n",
       "      <td>296.30</td>\n",
       "      <td>10</td>\n",
       "      <td>4</td>\n",
       "      <td>104</td>\n",
       "      <td>...</td>\n",
       "      <td>0</td>\n",
       "      <td>0</td>\n",
       "      <td>0</td>\n",
       "      <td>1.0</td>\n",
       "      <td>5.4</td>\n",
       "      <td>0.0</td>\n",
       "      <td>1</td>\n",
       "      <td>2</td>\n",
       "      <td>0</td>\n",
       "      <td>0</td>\n",
       "    </tr>\n",
       "    <tr>\n",
       "      <td>2</td>\n",
       "      <td>tt0077975</td>\n",
       "      <td>national lampoon's animal house</td>\n",
       "      <td>1978</td>\n",
       "      <td>106817</td>\n",
       "      <td>7.5</td>\n",
       "      <td>3.0</td>\n",
       "      <td>141.60</td>\n",
       "      <td>6</td>\n",
       "      <td>1</td>\n",
       "      <td>109</td>\n",
       "      <td>...</td>\n",
       "      <td>0</td>\n",
       "      <td>0</td>\n",
       "      <td>0</td>\n",
       "      <td>0.0</td>\n",
       "      <td>0.0</td>\n",
       "      <td>0.0</td>\n",
       "      <td>0</td>\n",
       "      <td>0</td>\n",
       "      <td>0</td>\n",
       "      <td>0</td>\n",
       "    </tr>\n",
       "    <tr>\n",
       "      <td>3</td>\n",
       "      <td>tt1649419</td>\n",
       "      <td>the impossible</td>\n",
       "      <td>2012</td>\n",
       "      <td>182949</td>\n",
       "      <td>7.6</td>\n",
       "      <td>45.0</td>\n",
       "      <td>198.10</td>\n",
       "      <td>3</td>\n",
       "      <td>3</td>\n",
       "      <td>113</td>\n",
       "      <td>...</td>\n",
       "      <td>0</td>\n",
       "      <td>0</td>\n",
       "      <td>0</td>\n",
       "      <td>0.0</td>\n",
       "      <td>0.2</td>\n",
       "      <td>0.2</td>\n",
       "      <td>0</td>\n",
       "      <td>1</td>\n",
       "      <td>0</td>\n",
       "      <td>1</td>\n",
       "    </tr>\n",
       "    <tr>\n",
       "      <td>4</td>\n",
       "      <td>tt1099212</td>\n",
       "      <td>twilight</td>\n",
       "      <td>1998</td>\n",
       "      <td>401686</td>\n",
       "      <td>5.2</td>\n",
       "      <td>385.0</td>\n",
       "      <td>3346.00</td>\n",
       "      <td>18</td>\n",
       "      <td>3</td>\n",
       "      <td>607</td>\n",
       "      <td>...</td>\n",
       "      <td>0</td>\n",
       "      <td>0</td>\n",
       "      <td>0</td>\n",
       "      <td>1.0</td>\n",
       "      <td>0.0</td>\n",
       "      <td>0.0</td>\n",
       "      <td>0</td>\n",
       "      <td>0</td>\n",
       "      <td>0</td>\n",
       "      <td>0</td>\n",
       "    </tr>\n",
       "  </tbody>\n",
       "</table>\n",
       "<p>5 rows × 49 columns</p>\n",
       "</div>"
      ],
      "text/plain": [
       "      imdbID                            title  year  n_votes  imdb_rating  \\\n",
       "0  tt0097626                  johnny handsome  1989     8324          6.2   \n",
       "1  tt0120903                            x-men  2000   545484          7.4   \n",
       "2  tt0077975  national lampoon's animal house  1978   106817          7.5   \n",
       "3  tt1649419                   the impossible  2012   182949          7.6   \n",
       "4  tt1099212                         twilight  1998   401686          5.2   \n",
       "\n",
       "   budget  box_office  cast  genre  running_time  ...  epi  oth  ani  \\\n",
       "0    20.0        7.24     7      3            96  ...    0    0    0   \n",
       "1    75.0      296.30    10      4           104  ...    0    0    0   \n",
       "2     3.0      141.60     6      1           109  ...    0    0    0   \n",
       "3    45.0      198.10     3      3           113  ...    0    0    0   \n",
       "4   385.0     3346.00    18      3           607  ...    0    0    0   \n",
       "\n",
       "   based_on_book  prescore  postscore  precount_wins  precount_noms  win  nom  \n",
       "0            1.0       0.4        0.0              0              2    0    0  \n",
       "1            1.0       5.4        0.0              1              2    0    0  \n",
       "2            0.0       0.0        0.0              0              0    0    0  \n",
       "3            0.0       0.2        0.2              0              1    0    1  \n",
       "4            1.0       0.0        0.0              0              0    0    0  \n",
       "\n",
       "[5 rows x 49 columns]"
      ]
     },
     "execution_count": 2,
     "metadata": {},
     "output_type": "execute_result"
    }
   ],
   "source": [
    "genre_dict = pickle.load(open(\"my_data_4/genre_dict\",\"rb\"))\n",
    "all_categories = pickle.load(open(\"my_data_4/all_categories\",\"rb\")) \n",
    "major_categories = pickle.load(open(\"my_data_4/major_categories\",\"rb\")) \n",
    "minor_categories = pickle.load(open(\"my_data_4/minor_categories\",\"rb\")) \n",
    "df_oscars_wide = pd.read_csv('my_data_4/df_oscars_wide.csv', index_col=[0])\n",
    "df_oscars_wide.title = df_oscars_wide.title.str.replace(':','')\n",
    "\n",
    "award_columns = list(df_oscars_wide.columns[1:-1])\n",
    "print('Award columns:\\n', award_columns)\n",
    "\n",
    "df_movies_main = pd.read_csv('my_data_4/DF_MEGA.csv',index_col=[0])\n",
    "df_movies_main = df_movies_main[df_movies_main.imdbID.duplicated()==False]\n",
    "df_movies_main.drop(['book','other','none'], axis=1, inplace=True)\n",
    "\n",
    "df_movies_main_2019 = pd.read_csv('my_data_4/DF_MEGA_2019_updated.csv',index_col=[0])\n",
    "filters_2019 = (df_movies_main_2019.dra==1)|(df_movies_main_2019.com==1)|(df_movies_main_2019.rom==1)|(df_movies_main_2019.epi==1)\n",
    "filters_2019 = filters_2019 & (df_movies_main_2019.act==0)\n",
    "df_movies_main_2019 = df_movies_main_2019[filters_2019]\n",
    "\n",
    "\n",
    "# Only consider post 1960 movies\n",
    "df_oscars_wide = df_oscars_wide[df_oscars_wide.year >= 1960]\n",
    "df_movies_main = df_movies_main[df_movies_main.year >= 1960]\n",
    "\n",
    "df_movies_main.title = df_movies_main.title.str.replace(':','')\n",
    "\n",
    "print(df_movies_main.shape)\n",
    "print(df_movies_main_2019.shape)\n",
    "print(\"\\nColumns:\\n\", df_movies_main.columns)\n",
    "df_movies_main.head()\n"
   ]
  },
  {
   "cell_type": "code",
   "execution_count": 4,
   "metadata": {},
   "outputs": [
    {
     "name": "stdout",
     "output_type": "stream",
     "text": [
      "(4581, 49)\n",
      "(4581, 16)\n"
     ]
    },
    {
     "data": {
      "text/html": [
       "<div>\n",
       "<style scoped>\n",
       "    .dataframe tbody tr th:only-of-type {\n",
       "        vertical-align: middle;\n",
       "    }\n",
       "\n",
       "    .dataframe tbody tr th {\n",
       "        vertical-align: top;\n",
       "    }\n",
       "\n",
       "    .dataframe thead th {\n",
       "        text-align: right;\n",
       "    }\n",
       "</style>\n",
       "<table border=\"1\" class=\"dataframe\">\n",
       "  <thead>\n",
       "    <tr style=\"text-align: right;\">\n",
       "      <th></th>\n",
       "      <th>imdbID</th>\n",
       "      <th>title</th>\n",
       "      <th>year</th>\n",
       "      <th>n_votes</th>\n",
       "      <th>imdb_rating</th>\n",
       "      <th>budget</th>\n",
       "      <th>box_office</th>\n",
       "      <th>cast</th>\n",
       "      <th>genre</th>\n",
       "      <th>running_time</th>\n",
       "      <th>...</th>\n",
       "      <th>epi</th>\n",
       "      <th>oth</th>\n",
       "      <th>ani</th>\n",
       "      <th>based_on_book</th>\n",
       "      <th>prescore</th>\n",
       "      <th>postscore</th>\n",
       "      <th>precount_wins</th>\n",
       "      <th>precount_noms</th>\n",
       "      <th>win</th>\n",
       "      <th>nom</th>\n",
       "    </tr>\n",
       "  </thead>\n",
       "  <tbody>\n",
       "    <tr>\n",
       "      <td>4583</td>\n",
       "      <td>tt0452624</td>\n",
       "      <td>the good german</td>\n",
       "      <td>2006</td>\n",
       "      <td>23319</td>\n",
       "      <td>6.0</td>\n",
       "      <td>32.0</td>\n",
       "      <td>6.0</td>\n",
       "      <td>3</td>\n",
       "      <td>4</td>\n",
       "      <td>105</td>\n",
       "      <td>...</td>\n",
       "      <td>0</td>\n",
       "      <td>0</td>\n",
       "      <td>0</td>\n",
       "      <td>1.0</td>\n",
       "      <td>10.700000</td>\n",
       "      <td>0.0</td>\n",
       "      <td>3</td>\n",
       "      <td>7</td>\n",
       "      <td>0</td>\n",
       "      <td>0</td>\n",
       "    </tr>\n",
       "    <tr>\n",
       "      <td>4584</td>\n",
       "      <td>tt0497116</td>\n",
       "      <td>an inconvenient truth</td>\n",
       "      <td>2006</td>\n",
       "      <td>78298</td>\n",
       "      <td>7.4</td>\n",
       "      <td>1.5</td>\n",
       "      <td>49.8</td>\n",
       "      <td>1</td>\n",
       "      <td>2</td>\n",
       "      <td>97</td>\n",
       "      <td>...</td>\n",
       "      <td>0</td>\n",
       "      <td>0</td>\n",
       "      <td>0</td>\n",
       "      <td>0.0</td>\n",
       "      <td>0.400000</td>\n",
       "      <td>0.0</td>\n",
       "      <td>0</td>\n",
       "      <td>2</td>\n",
       "      <td>0</td>\n",
       "      <td>0</td>\n",
       "    </tr>\n",
       "    <tr>\n",
       "      <td>4585</td>\n",
       "      <td>tt0857191</td>\n",
       "      <td>the visitor</td>\n",
       "      <td>2008</td>\n",
       "      <td>40468</td>\n",
       "      <td>7.6</td>\n",
       "      <td>4.0</td>\n",
       "      <td>18.1</td>\n",
       "      <td>4</td>\n",
       "      <td>1</td>\n",
       "      <td>103</td>\n",
       "      <td>...</td>\n",
       "      <td>0</td>\n",
       "      <td>0</td>\n",
       "      <td>0</td>\n",
       "      <td>0.0</td>\n",
       "      <td>0.200000</td>\n",
       "      <td>0.2</td>\n",
       "      <td>0</td>\n",
       "      <td>1</td>\n",
       "      <td>0</td>\n",
       "      <td>1</td>\n",
       "    </tr>\n",
       "    <tr>\n",
       "      <td>4586</td>\n",
       "      <td>tt1667353</td>\n",
       "      <td>mirror mirror</td>\n",
       "      <td>2012</td>\n",
       "      <td>80479</td>\n",
       "      <td>5.6</td>\n",
       "      <td>85.0</td>\n",
       "      <td>183.0</td>\n",
       "      <td>7</td>\n",
       "      <td>5</td>\n",
       "      <td>106</td>\n",
       "      <td>...</td>\n",
       "      <td>0</td>\n",
       "      <td>1</td>\n",
       "      <td>0</td>\n",
       "      <td>1.0</td>\n",
       "      <td>5.800000</td>\n",
       "      <td>0.0</td>\n",
       "      <td>1</td>\n",
       "      <td>4</td>\n",
       "      <td>0</td>\n",
       "      <td>0</td>\n",
       "    </tr>\n",
       "    <tr>\n",
       "      <td>4587</td>\n",
       "      <td>tt4226388</td>\n",
       "      <td>victoria &amp; abdul</td>\n",
       "      <td>2017</td>\n",
       "      <td>46625</td>\n",
       "      <td>7.7</td>\n",
       "      <td>21.0</td>\n",
       "      <td>65.4</td>\n",
       "      <td>6</td>\n",
       "      <td>5</td>\n",
       "      <td>111</td>\n",
       "      <td>...</td>\n",
       "      <td>0</td>\n",
       "      <td>0</td>\n",
       "      <td>0</td>\n",
       "      <td>1.0</td>\n",
       "      <td>7.136111</td>\n",
       "      <td>0.0</td>\n",
       "      <td>1</td>\n",
       "      <td>12</td>\n",
       "      <td>0</td>\n",
       "      <td>0</td>\n",
       "    </tr>\n",
       "  </tbody>\n",
       "</table>\n",
       "<p>5 rows × 49 columns</p>\n",
       "</div>"
      ],
      "text/plain": [
       "         imdbID                  title  year  n_votes  imdb_rating  budget  \\\n",
       "4583  tt0452624        the good german  2006    23319          6.0    32.0   \n",
       "4584  tt0497116  an inconvenient truth  2006    78298          7.4     1.5   \n",
       "4585  tt0857191            the visitor  2008    40468          7.6     4.0   \n",
       "4586  tt1667353          mirror mirror  2012    80479          5.6    85.0   \n",
       "4587  tt4226388       victoria & abdul  2017    46625          7.7    21.0   \n",
       "\n",
       "      box_office  cast  genre  running_time  ...  epi  oth  ani  \\\n",
       "4583         6.0     3      4           105  ...    0    0    0   \n",
       "4584        49.8     1      2            97  ...    0    0    0   \n",
       "4585        18.1     4      1           103  ...    0    0    0   \n",
       "4586       183.0     7      5           106  ...    0    1    0   \n",
       "4587        65.4     6      5           111  ...    0    0    0   \n",
       "\n",
       "      based_on_book   prescore  postscore  precount_wins  precount_noms  win  \\\n",
       "4583            1.0  10.700000        0.0              3              7    0   \n",
       "4584            0.0   0.400000        0.0              0              2    0   \n",
       "4585            0.0   0.200000        0.2              0              1    0   \n",
       "4586            1.0   5.800000        0.0              1              4    0   \n",
       "4587            1.0   7.136111        0.0              1             12    0   \n",
       "\n",
       "      nom  \n",
       "4583    0  \n",
       "4584    0  \n",
       "4585    1  \n",
       "4586    0  \n",
       "4587    0  \n",
       "\n",
       "[5 rows x 49 columns]"
      ]
     },
     "execution_count": 4,
     "metadata": {},
     "output_type": "execute_result"
    }
   ],
   "source": [
    "# df_outcome = df_movies_main[['imdbID','title','year']]\n",
    "df_movies_main = df_movies_main.merge(df_oscars_wide, on = ['title'], how='left').drop(columns='year_y').rename(columns = {'year_x':'year'})\n",
    "df_movies_main.fillna('O', inplace=True)\n",
    "df_movies_main = df_movies_main[df_movies_main.imdbID.duplicated()==False]\n",
    "\n",
    "# Split into Data and Outcome\n",
    "df_outcome = df_movies_main[['title'] + award_columns]\n",
    "df_movies_main.drop(award_columns, axis=1, inplace=True)\n",
    "\n",
    "print(df_movies_main.shape)\n",
    "print(df_outcome.shape)\n",
    "df_movies_main.tail()"
   ]
  },
  {
   "cell_type": "code",
   "execution_count": 5,
   "metadata": {},
   "outputs": [
    {
     "data": {
      "text/plain": [
       "Index(['imdbID', 'title', 'year', 'n_votes', 'imdb_rating', 'budget',\n",
       "       'box_office', 'cast', 'genre', 'running_time', 'inflation_factor',\n",
       "       'budget_adjusted', 'budget_per_actor', 'budget_per_time',\n",
       "       'runtime_per_actor', 'percent_revenue', 'total_ratings', 'sup', 'hor',\n",
       "       'com', 'spy', 'his', 'war', 'psy', 'rom', 'mon', 'fan', 'mus', 'pol',\n",
       "       'bio', 'sci', 'act', 'dra', 'dis', 'adv', 'mys', 'thr', 'dys', 'cri',\n",
       "       'epi', 'oth', 'ani', 'based_on_book', 'prescore', 'postscore',\n",
       "       'precount_wins', 'precount_noms', 'win', 'nom'],\n",
       "      dtype='object')"
      ]
     },
     "execution_count": 5,
     "metadata": {},
     "output_type": "execute_result"
    }
   ],
   "source": [
    "df_movies_main.columns"
   ]
  },
  {
   "cell_type": "code",
   "execution_count": 6,
   "metadata": {},
   "outputs": [],
   "source": [
    "# # 'A star is born' and 'True grit' were duplicated\n",
    "# df_outcome.drop(index = 235,inplace=True)\n",
    "# df_outcome[df_outcome.title.str.startswith('a star is born')]\n",
    "# df_outcome.drop(index = 492,inplace=True)\n",
    "# df_outcome[df_outcome.title.str.startswith('true grit')]"
   ]
  },
  {
   "cell_type": "code",
   "execution_count": 88,
   "metadata": {},
   "outputs": [
    {
     "data": {
      "text/html": [
       "<div>\n",
       "<style scoped>\n",
       "    .dataframe tbody tr th:only-of-type {\n",
       "        vertical-align: middle;\n",
       "    }\n",
       "\n",
       "    .dataframe tbody tr th {\n",
       "        vertical-align: top;\n",
       "    }\n",
       "\n",
       "    .dataframe thead th {\n",
       "        text-align: right;\n",
       "    }\n",
       "</style>\n",
       "<table border=\"1\" class=\"dataframe\">\n",
       "  <thead>\n",
       "    <tr style=\"text-align: right;\">\n",
       "      <th></th>\n",
       "      <th>imdbID</th>\n",
       "      <th>title</th>\n",
       "      <th>year</th>\n",
       "      <th>n_votes</th>\n",
       "      <th>imdb_rating</th>\n",
       "      <th>budget</th>\n",
       "      <th>box_office</th>\n",
       "      <th>cast</th>\n",
       "      <th>genre</th>\n",
       "      <th>running_time</th>\n",
       "      <th>...</th>\n",
       "      <th>oth</th>\n",
       "      <th>ani</th>\n",
       "      <th>based_on_book</th>\n",
       "      <th>other</th>\n",
       "      <th>prescore</th>\n",
       "      <th>postscore</th>\n",
       "      <th>precount_wins</th>\n",
       "      <th>precount_noms</th>\n",
       "      <th>box_office_adjusted</th>\n",
       "      <th>predicted_probability</th>\n",
       "    </tr>\n",
       "  </thead>\n",
       "  <tbody>\n",
       "    <tr>\n",
       "      <td>1</td>\n",
       "      <td>tt1979376</td>\n",
       "      <td>toy story 4</td>\n",
       "      <td>2019</td>\n",
       "      <td>135006</td>\n",
       "      <td>7.9</td>\n",
       "      <td>200.0</td>\n",
       "      <td>1073.0</td>\n",
       "      <td>13.0</td>\n",
       "      <td>3</td>\n",
       "      <td>100.0</td>\n",
       "      <td>...</td>\n",
       "      <td>0</td>\n",
       "      <td>1</td>\n",
       "      <td>0.0</td>\n",
       "      <td>0.0</td>\n",
       "      <td>16.5</td>\n",
       "      <td>0.0</td>\n",
       "      <td>3</td>\n",
       "      <td>9</td>\n",
       "      <td>420.784314</td>\n",
       "      <td>0.405562</td>\n",
       "    </tr>\n",
       "    <tr>\n",
       "      <td>131</td>\n",
       "      <td>tt7286456</td>\n",
       "      <td>joker</td>\n",
       "      <td>2019</td>\n",
       "      <td>513667</td>\n",
       "      <td>8.7</td>\n",
       "      <td>70.0</td>\n",
       "      <td>1061.0</td>\n",
       "      <td>1.0</td>\n",
       "      <td>4</td>\n",
       "      <td>122.0</td>\n",
       "      <td>...</td>\n",
       "      <td>0</td>\n",
       "      <td>0</td>\n",
       "      <td>1.0</td>\n",
       "      <td>0.0</td>\n",
       "      <td>1.3</td>\n",
       "      <td>0.0</td>\n",
       "      <td>0</td>\n",
       "      <td>8</td>\n",
       "      <td>416.078431</td>\n",
       "      <td>0.503602</td>\n",
       "    </tr>\n",
       "    <tr>\n",
       "      <td>5</td>\n",
       "      <td>tt0103639</td>\n",
       "      <td>aladdin</td>\n",
       "      <td>2019</td>\n",
       "      <td>339486</td>\n",
       "      <td>8.0</td>\n",
       "      <td>183.0</td>\n",
       "      <td>1051.0</td>\n",
       "      <td>7.0</td>\n",
       "      <td>4</td>\n",
       "      <td>128.0</td>\n",
       "      <td>...</td>\n",
       "      <td>0</td>\n",
       "      <td>0</td>\n",
       "      <td>1.0</td>\n",
       "      <td>0.0</td>\n",
       "      <td>0.4</td>\n",
       "      <td>0.0</td>\n",
       "      <td>0</td>\n",
       "      <td>2</td>\n",
       "      <td>412.156863</td>\n",
       "      <td>0.410956</td>\n",
       "    </tr>\n",
       "    <tr>\n",
       "      <td>4</td>\n",
       "      <td>tt4520988</td>\n",
       "      <td>frozen ii</td>\n",
       "      <td>2019</td>\n",
       "      <td>12874</td>\n",
       "      <td>7.3</td>\n",
       "      <td>150.0</td>\n",
       "      <td>1041.0</td>\n",
       "      <td>4.0</td>\n",
       "      <td>5</td>\n",
       "      <td>103.0</td>\n",
       "      <td>...</td>\n",
       "      <td>0</td>\n",
       "      <td>1</td>\n",
       "      <td>0.0</td>\n",
       "      <td>0.0</td>\n",
       "      <td>0.0</td>\n",
       "      <td>0.0</td>\n",
       "      <td>0</td>\n",
       "      <td>0</td>\n",
       "      <td>408.235294</td>\n",
       "      <td>0.400962</td>\n",
       "    </tr>\n",
       "    <tr>\n",
       "      <td>6</td>\n",
       "      <td>tt7349950</td>\n",
       "      <td>it chapter two</td>\n",
       "      <td>2019</td>\n",
       "      <td>127076</td>\n",
       "      <td>6.7</td>\n",
       "      <td>79.0</td>\n",
       "      <td>472.1</td>\n",
       "      <td>8.0</td>\n",
       "      <td>3</td>\n",
       "      <td>169.0</td>\n",
       "      <td>...</td>\n",
       "      <td>0</td>\n",
       "      <td>0</td>\n",
       "      <td>1.0</td>\n",
       "      <td>0.0</td>\n",
       "      <td>0.4</td>\n",
       "      <td>0.0</td>\n",
       "      <td>0</td>\n",
       "      <td>2</td>\n",
       "      <td>185.137255</td>\n",
       "      <td>0.403666</td>\n",
       "    </tr>\n",
       "  </tbody>\n",
       "</table>\n",
       "<p>5 rows × 51 columns</p>\n",
       "</div>"
      ],
      "text/plain": [
       "        imdbID           title  year  n_votes  imdb_rating  budget  \\\n",
       "1    tt1979376     toy story 4  2019   135006          7.9   200.0   \n",
       "131  tt7286456           joker  2019   513667          8.7    70.0   \n",
       "5    tt0103639         aladdin  2019   339486          8.0   183.0   \n",
       "4    tt4520988       frozen ii  2019    12874          7.3   150.0   \n",
       "6    tt7349950  it chapter two  2019   127076          6.7    79.0   \n",
       "\n",
       "     box_office  cast  genre  running_time  ...  oth  ani  based_on_book  \\\n",
       "1        1073.0  13.0      3         100.0  ...    0    1            0.0   \n",
       "131      1061.0   1.0      4         122.0  ...    0    0            1.0   \n",
       "5        1051.0   7.0      4         128.0  ...    0    0            1.0   \n",
       "4        1041.0   4.0      5         103.0  ...    0    1            0.0   \n",
       "6         472.1   8.0      3         169.0  ...    0    0            1.0   \n",
       "\n",
       "     other  prescore  postscore  precount_wins  precount_noms  \\\n",
       "1      0.0      16.5        0.0              3              9   \n",
       "131    0.0       1.3        0.0              0              8   \n",
       "5      0.0       0.4        0.0              0              2   \n",
       "4      0.0       0.0        0.0              0              0   \n",
       "6      0.0       0.4        0.0              0              2   \n",
       "\n",
       "     box_office_adjusted  predicted_probability  \n",
       "1             420.784314               0.405562  \n",
       "131           416.078431               0.503602  \n",
       "5             412.156863               0.410956  \n",
       "4             408.235294               0.400962  \n",
       "6             185.137255               0.403666  \n",
       "\n",
       "[5 rows x 51 columns]"
      ]
     },
     "execution_count": 88,
     "metadata": {},
     "output_type": "execute_result"
    }
   ],
   "source": [
    "df_movies_main_2019.sort_values(by='box_office_adjusted', ascending=False).head()"
   ]
  },
  {
   "cell_type": "markdown",
   "metadata": {},
   "source": [
    "# Learning from the Data"
   ]
  },
  {
   "cell_type": "code",
   "execution_count": 7,
   "metadata": {},
   "outputs": [],
   "source": [
    "basic_ID_columns = ['imdbID', 'title', 'year']\n",
    "genre_columns = ['genre', 'spy', 'sup', 'hor', 'dys', 'thr', 'act',\n",
    "       'his', 'adv', 'dis', 'epi', 'com', 'fan', 'ani', 'mys', 'dra', 'psy',\n",
    "       'mon', 'war', 'sci', 'mus', 'cri', 'oth', 'pol', 'rom', 'bio',\n",
    "       'based_on_book']\n",
    "imdb_columns = ['cast', 'n_votes', 'imdb_rating']\n",
    "pre_oscar_columns = ['prescore', 'precount_wins', 'precount_noms']\n",
    "post_oscar_columns = ['postscore', 'win', 'nom']\n",
    "derived_columns = ['budget_per_actor', 'budget_per_time',\n",
    "       'runtime_per_actor', 'percent_revenue', 'total_ratings']\n",
    "budget_columns = ['budget', 'inflation_factor','budget_adjusted']\n",
    "box_office_columns = ['box_office']\n"
   ]
  },
  {
   "cell_type": "code",
   "execution_count": 8,
   "metadata": {},
   "outputs": [],
   "source": [
    "def convert_to_pctile(X):\n",
    "    for col in X.columns:\n",
    "        x = np.array(X[col])\n",
    "        X[col] = [(len(np.where(x<=y)[0])/len(x)) for y in x]\n",
    "    return X\n",
    "\n",
    "def top_N_each_year(df,N,feature):\n",
    "    df_ = pd.DataFrame()\n",
    "    for year in list(set(df.year)):\n",
    "        # print(year)\n",
    "        df_ = df_.append(df[df.year == year].sort_values(by = feature, ascending=False).head(N))\n",
    "    return df_"
   ]
  },
  {
   "cell_type": "markdown",
   "metadata": {},
   "source": [
    "## K Nearest Neighbor Classifier \n",
    "\n",
    "We use a KNN classifier to predict the outcome of the 2019 movies. "
   ]
  },
  {
   "cell_type": "code",
   "execution_count": 9,
   "metadata": {},
   "outputs": [
    {
     "name": "stdout",
     "output_type": "stream",
     "text": [
      "(4581, 16)\n"
     ]
    },
    {
     "data": {
      "text/html": [
       "<div>\n",
       "<style scoped>\n",
       "    .dataframe tbody tr th:only-of-type {\n",
       "        vertical-align: middle;\n",
       "    }\n",
       "\n",
       "    .dataframe tbody tr th {\n",
       "        vertical-align: top;\n",
       "    }\n",
       "\n",
       "    .dataframe thead th {\n",
       "        text-align: right;\n",
       "    }\n",
       "</style>\n",
       "<table border=\"1\" class=\"dataframe\">\n",
       "  <thead>\n",
       "    <tr style=\"text-align: right;\">\n",
       "      <th></th>\n",
       "      <th>title</th>\n",
       "      <th>actor</th>\n",
       "      <th>actress</th>\n",
       "      <th>art_direction</th>\n",
       "      <th>cinematography</th>\n",
       "      <th>costume</th>\n",
       "      <th>director</th>\n",
       "      <th>editing</th>\n",
       "      <th>effects</th>\n",
       "      <th>music</th>\n",
       "      <th>picture</th>\n",
       "      <th>s_actor</th>\n",
       "      <th>s_actress</th>\n",
       "      <th>screenplay</th>\n",
       "      <th>song</th>\n",
       "      <th>sound</th>\n",
       "    </tr>\n",
       "  </thead>\n",
       "  <tbody>\n",
       "    <tr>\n",
       "      <td>0</td>\n",
       "      <td>johnny handsome</td>\n",
       "      <td>O</td>\n",
       "      <td>O</td>\n",
       "      <td>O</td>\n",
       "      <td>O</td>\n",
       "      <td>O</td>\n",
       "      <td>O</td>\n",
       "      <td>O</td>\n",
       "      <td>O</td>\n",
       "      <td>O</td>\n",
       "      <td>O</td>\n",
       "      <td>O</td>\n",
       "      <td>O</td>\n",
       "      <td>O</td>\n",
       "      <td>O</td>\n",
       "      <td>O</td>\n",
       "    </tr>\n",
       "    <tr>\n",
       "      <td>1</td>\n",
       "      <td>x-men</td>\n",
       "      <td>O</td>\n",
       "      <td>O</td>\n",
       "      <td>O</td>\n",
       "      <td>O</td>\n",
       "      <td>O</td>\n",
       "      <td>O</td>\n",
       "      <td>O</td>\n",
       "      <td>O</td>\n",
       "      <td>O</td>\n",
       "      <td>O</td>\n",
       "      <td>O</td>\n",
       "      <td>O</td>\n",
       "      <td>O</td>\n",
       "      <td>O</td>\n",
       "      <td>O</td>\n",
       "    </tr>\n",
       "    <tr>\n",
       "      <td>2</td>\n",
       "      <td>national lampoon's animal house</td>\n",
       "      <td>O</td>\n",
       "      <td>O</td>\n",
       "      <td>O</td>\n",
       "      <td>O</td>\n",
       "      <td>O</td>\n",
       "      <td>O</td>\n",
       "      <td>O</td>\n",
       "      <td>O</td>\n",
       "      <td>O</td>\n",
       "      <td>O</td>\n",
       "      <td>O</td>\n",
       "      <td>O</td>\n",
       "      <td>O</td>\n",
       "      <td>O</td>\n",
       "      <td>O</td>\n",
       "    </tr>\n",
       "    <tr>\n",
       "      <td>3</td>\n",
       "      <td>the impossible</td>\n",
       "      <td>O</td>\n",
       "      <td>N</td>\n",
       "      <td>O</td>\n",
       "      <td>O</td>\n",
       "      <td>O</td>\n",
       "      <td>O</td>\n",
       "      <td>O</td>\n",
       "      <td>O</td>\n",
       "      <td>O</td>\n",
       "      <td>O</td>\n",
       "      <td>O</td>\n",
       "      <td>O</td>\n",
       "      <td>O</td>\n",
       "      <td>O</td>\n",
       "      <td>O</td>\n",
       "    </tr>\n",
       "    <tr>\n",
       "      <td>4</td>\n",
       "      <td>twilight</td>\n",
       "      <td>O</td>\n",
       "      <td>O</td>\n",
       "      <td>O</td>\n",
       "      <td>O</td>\n",
       "      <td>O</td>\n",
       "      <td>O</td>\n",
       "      <td>O</td>\n",
       "      <td>O</td>\n",
       "      <td>O</td>\n",
       "      <td>O</td>\n",
       "      <td>O</td>\n",
       "      <td>O</td>\n",
       "      <td>O</td>\n",
       "      <td>O</td>\n",
       "      <td>O</td>\n",
       "    </tr>\n",
       "  </tbody>\n",
       "</table>\n",
       "</div>"
      ],
      "text/plain": [
       "                             title actor actress art_direction cinematography  \\\n",
       "0                  johnny handsome     O       O             O              O   \n",
       "1                            x-men     O       O             O              O   \n",
       "2  national lampoon's animal house     O       O             O              O   \n",
       "3                   the impossible     O       N             O              O   \n",
       "4                         twilight     O       O             O              O   \n",
       "\n",
       "  costume director editing effects music picture s_actor s_actress screenplay  \\\n",
       "0       O        O       O       O     O       O       O         O          O   \n",
       "1       O        O       O       O     O       O       O         O          O   \n",
       "2       O        O       O       O     O       O       O         O          O   \n",
       "3       O        O       O       O     O       O       O         O          O   \n",
       "4       O        O       O       O     O       O       O         O          O   \n",
       "\n",
       "  song sound  \n",
       "0    O     O  \n",
       "1    O     O  \n",
       "2    O     O  \n",
       "3    O     O  \n",
       "4    O     O  "
      ]
     },
     "execution_count": 9,
     "metadata": {},
     "output_type": "execute_result"
    }
   ],
   "source": [
    "print(df_outcome.shape)\n",
    "df_outcome.head()"
   ]
  },
  {
   "cell_type": "code",
   "execution_count": 10,
   "metadata": {},
   "outputs": [
    {
     "name": "stdout",
     "output_type": "stream",
     "text": [
      "(4581, 33)\n",
      "(157, 33)\n",
      "(4581,)\n",
      "Number of movies in the 1-class:, 292\n"
     ]
    }
   ],
   "source": [
    "#Define predictors\n",
    "all_predictors = ['imdbID', 'title', 'year', 'imdb_rating',\n",
    "       'cast', 'precount_wins', 'precount_noms', 'prescore', 'running_time']  + genre_columns # +  ['percent_revenue']\n",
    "\n",
    "# Get training ad testing data\n",
    "X = df_movies_main[all_predictors].drop(['imdbID', 'title', 'year'], axis=1)\n",
    "X_2019 = df_movies_main_2019[all_predictors].drop(['imdbID', 'title', 'year'], axis=1)\n",
    "print(X.shape)\n",
    "print(X_2019.shape)\n",
    "\n",
    "# Target\n",
    "y = (df_outcome.picture == 'N') | (df_outcome.director== 'N')\n",
    "y = np.array([int(z) for z in y])\n",
    "print(y.shape)\n",
    "y = np.expand_dims(y, axis=1)\n",
    "print(\"Number of movies in the 1-class:,\",len(np.where(y==1)[0]))\n",
    "\n",
    "# Copnvert to Percentile\n",
    "X = convert_to_pctile(X)\n",
    "X_2019 = convert_to_pctile(X_2019)"
   ]
  },
  {
   "cell_type": "markdown",
   "metadata": {},
   "source": [
    "## K Nearest neighbors classifier"
   ]
  },
  {
   "cell_type": "code",
   "execution_count": 100,
   "metadata": {},
   "outputs": [
    {
     "name": "stdout",
     "output_type": "stream",
     "text": [
      "{'n_neighbors': 10}\n"
     ]
    },
    {
     "data": {
      "text/plain": [
       "<BarContainer object of 10 artists>"
      ]
     },
     "execution_count": 100,
     "metadata": {},
     "output_type": "execute_result"
    },
    {
     "data": {
      "image/png": "[encoded data removed]",
      "text/plain": [
       "<Figure size 432x288 with 1 Axes>"
      ]
     },
     "metadata": {
      "needs_background": "light"
     },
     "output_type": "display_data"
    }
   ],
   "source": [
    "\n",
    "# KNN Training\n",
    "knn = KNeighborsClassifier(n_neighbors=5)\n",
    "param_grid = {'n_neighbors': np.arange(1, 30)} \n",
    "knn_cv = GridSearchCV(knn, param_grid, cv=5) \n",
    "# knn.fit(X, y) \n",
    "knn_cv.fit(X, y)\n",
    "\n",
    "# KNN prediction\n",
    "y_pred = knn_cv.predict(X_2019)\n",
    "y_prob = knn_cv.predict_proba(X_2019)\n",
    "df_movies_main_2019.loc[:,'predicted_probability_knn'] = y_prob[:,1]\n",
    "clear_output()\n",
    "x = df_movies_main_2019.sort_values(by='predicted_probability_knn', ascending=False).head(10)\n",
    "print(knn_cv.best_params_)\n",
    "x = x.iloc[::-1,:]\n",
    "plt.barh(x['title'], x['predicted_probability_knn'])\n"
   ]
  },
  {
   "cell_type": "markdown",
   "metadata": {},
   "source": [
    "## Random Forest Classifier"
   ]
  },
  {
   "cell_type": "code",
   "execution_count": 105,
   "metadata": {},
   "outputs": [
    {
     "name": "stdout",
     "output_type": "stream",
     "text": [
      "{'n_estimators': 55}\n"
     ]
    },
    {
     "data": {
      "text/plain": [
       "<BarContainer object of 10 artists>"
      ]
     },
     "execution_count": 105,
     "metadata": {},
     "output_type": "execute_result"
    },
    {
     "data": {
      "image/png": "[encoded data removed]",
      "text/plain": [
       "<Figure size 432x288 with 1 Axes>"
      ]
     },
     "metadata": {
      "needs_background": "light"
     },
     "output_type": "display_data"
    }
   ],
   "source": [
    "rfc=RandomForestClassifier() # n_estimators=100)\n",
    "param_grid = {'n_estimators': np.arange(50,100,5)} \n",
    "rfc_cv = GridSearchCV(rfc, param_grid, cv=5) \n",
    "\n",
    "rfc_cv.fit(X,y)\n",
    "y_pred = rfc_cv.predict(X_2019)\n",
    "y_prob = rfc_cv.predict_proba(X_2019)\n",
    "df_movies_main_2019.loc[:,'predicted_probability_rfc'] = y_prob[:,1]\n",
    "clear_output()\n",
    "x = df_movies_main_2019.sort_values(by='predicted_probability_rfc', ascending=False).head(10)\n",
    "print(rfc_cv.best_params_)\n",
    "x = x.iloc[::-1,:]\n",
    "plt.barh(x['title'], x['predicted_probability_rfc'])\n"
   ]
  },
  {
   "cell_type": "markdown",
   "metadata": {},
   "source": [
    "### Decision Tree Regressor"
   ]
  },
  {
   "cell_type": "code",
   "execution_count": 106,
   "metadata": {},
   "outputs": [
    {
     "data": {
      "text/html": [
       "<div>\n",
       "<style scoped>\n",
       "    .dataframe tbody tr th:only-of-type {\n",
       "        vertical-align: middle;\n",
       "    }\n",
       "\n",
       "    .dataframe tbody tr th {\n",
       "        vertical-align: top;\n",
       "    }\n",
       "\n",
       "    .dataframe thead th {\n",
       "        text-align: right;\n",
       "    }\n",
       "</style>\n",
       "<table border=\"1\" class=\"dataframe\">\n",
       "  <thead>\n",
       "    <tr style=\"text-align: right;\">\n",
       "      <th></th>\n",
       "      <th>imdbID</th>\n",
       "      <th>title</th>\n",
       "      <th>year</th>\n",
       "    </tr>\n",
       "  </thead>\n",
       "  <tbody>\n",
       "    <tr>\n",
       "      <td>145</td>\n",
       "      <td>tt2584384</td>\n",
       "      <td>jojo rabbit</td>\n",
       "      <td>2019</td>\n",
       "    </tr>\n",
       "    <tr>\n",
       "      <td>156</td>\n",
       "      <td>tt7653254</td>\n",
       "      <td>marriage story</td>\n",
       "      <td>2019</td>\n",
       "    </tr>\n",
       "  </tbody>\n",
       "</table>\n",
       "</div>"
      ],
      "text/plain": [
       "        imdbID           title  year\n",
       "145  tt2584384     jojo rabbit  2019\n",
       "156  tt7653254  marriage story  2019"
      ]
     },
     "execution_count": 106,
     "metadata": {},
     "output_type": "execute_result"
    }
   ],
   "source": [
    "sample_split = list(range(2, 20))\n",
    "param_grid = dict(min_samples_split=sample_split)\n",
    "reg = DecisionTreeRegressor(random_state = 47)\n",
    "reg_cv = GridSearchCV(reg, param_grid, cv=5) \n",
    "reg_cv.fit(X,y)\n",
    "y_pred=reg_cv.predict(X_2019)\n",
    "# y_prob = reg_cv.predict_proba(X_2019)\n",
    "# df_movies_main_2019.loc[:,'predicted_probability'] = y_prob[:,1]\n",
    "# df_movies_main_2019[['imdbID','title','year','predicted_probability']][y_pred == 1].sort_values(by = 'predicted_probability',\n",
    "                                                                                               # ascending=False)\n",
    "\n",
    "df_movies_main_2019[['imdbID','title','year']][y_pred == 1]"
   ]
  },
  {
   "cell_type": "markdown",
   "metadata": {},
   "source": [
    "## Ensemble Method"
   ]
  },
  {
   "cell_type": "code",
   "execution_count": 109,
   "metadata": {},
   "outputs": [
    {
     "data": {
      "text/plain": [
       "<BarContainer object of 10 artists>"
      ]
     },
     "execution_count": 109,
     "metadata": {},
     "output_type": "execute_result"
    },
    {
     "data": {
      "image/png": "[encoded data removed]",
      "text/plain": [
       "<Figure size 432x288 with 1 Axes>"
      ]
     },
     "metadata": {
      "needs_background": "light"
     },
     "output_type": "display_data"
    }
   ],
   "source": [
    "bag = BaggingClassifier(base_estimator=KNeighborsClassifier(n_neighbors=10), n_estimators=100, random_state=42).fit(X, y)\n",
    "y_pred = bag.predict(X_2019)\n",
    "y_prob = bag.predict_proba(X_2019)\n",
    "df_movies_main_2019.loc[:,'predicted_probability_bag'] = y_prob[:,1]\n",
    "clear_output()\n",
    "x = df_movies_main_2019.sort_values(by='predicted_probability_bag', ascending=False).head(10)\n",
    "x = x.iloc[::-1,:]\n",
    "plt.barh(x['title'], x['predicted_probability_bag'])\n"
   ]
  },
  {
   "cell_type": "markdown",
   "metadata": {},
   "source": [
    "# Adaboost"
   ]
  },
  {
   "cell_type": "code",
   "execution_count": 111,
   "metadata": {},
   "outputs": [
    {
     "data": {
      "text/plain": [
       "<BarContainer object of 10 artists>"
      ]
     },
     "execution_count": 111,
     "metadata": {},
     "output_type": "execute_result"
    },
    {
     "data": {
      "image/png": "[encoded data removed]",
      "text/plain": [
       "<Figure size 432x288 with 1 Axes>"
      ]
     },
     "metadata": {
      "needs_background": "light"
     },
     "output_type": "display_data"
    }
   ],
   "source": [
    "ada = AdaBoostClassifier(n_estimators=100, random_state=47)\n",
    "ada.fit(X, y)\n",
    "y_pred = ada.predict(X_2019)\n",
    "y_prob = ada.predict_proba(X_2019)\n",
    "\n",
    "df_movies_main_2019.loc[:,'predicted_probability_ada'] = y_prob[:,1]\n",
    "clear_output()\n",
    "x = df_movies_main_2019.sort_values(by='predicted_probability_ada', ascending=False).head(10)\n",
    "# print(bag.best_params_)\n",
    "x = x.iloc[::-1,:]\n",
    "plt.barh(x['title'], x['predicted_probability_ada'])"
   ]
  },
  {
   "cell_type": "markdown",
   "metadata": {},
   "source": [
    "# Neural Network"
   ]
  },
  {
   "cell_type": "code",
   "execution_count": 112,
   "metadata": {},
   "outputs": [
    {
     "data": {
      "text/plain": [
       "<BarContainer object of 10 artists>"
      ]
     },
     "execution_count": 112,
     "metadata": {},
     "output_type": "execute_result"
    },
    {
     "data": {
      "image/png": "[encoded data removed]",
      "text/plain": [
       "<Figure size 432x288 with 1 Axes>"
      ]
     },
     "metadata": {
      "needs_background": "light"
     },
     "output_type": "display_data"
    }
   ],
   "source": [
    "mlp = MLPClassifier(solver='sgd', alpha=1e-5, hidden_layer_sizes=(5,5), max_iter=1000, random_state=41)\n",
    "mlp.fit(X, y)\n",
    "y_pred = mlp.predict(X_2019)\n",
    "y_prob = mlp.predict_proba(X_2019)\n",
    "# print(y_prob)\n",
    "# print(classifier.score)\n",
    "df_movies_main_2019.loc[:,'predicted_probability_mlp'] = y_prob[:,1]\n",
    "clear_output()\n",
    "x = df_movies_main_2019.sort_values(by='predicted_probability_mlp', ascending=False).head(10)\n",
    "# print(bag.best_params_)\n",
    "x = x.iloc[::-1,:]\n",
    "plt.barh(x['title'], x['predicted_probability_mlp'])"
   ]
  },
  {
   "cell_type": "markdown",
   "metadata": {},
   "source": [
    "# Ensemble of Neural Networks"
   ]
  },
  {
   "cell_type": "code",
   "execution_count": 113,
   "metadata": {},
   "outputs": [
    {
     "data": {
      "text/plain": [
       "<BarContainer object of 10 artists>"
      ]
     },
     "execution_count": 113,
     "metadata": {},
     "output_type": "execute_result"
    },
    {
     "data": {
      "image/png": "[encoded data removed]",
      "text/plain": [
       "<Figure size 432x288 with 1 Axes>"
      ]
     },
     "metadata": {
      "needs_background": "light"
     },
     "output_type": "display_data"
    }
   ],
   "source": [
    "mlp = MLPClassifier(solver='sgd')\n",
    "mlp_bag = BaggingClassifier(base_estimator=mlp, n_estimators=100, random_state=42).fit(X, y)\n",
    "y_pred = mlp_bag.predict(X_2019)\n",
    "y_prob = mlp_bag.predict_proba(X_2019)\n",
    "df_movies_main_2019.loc[:,'predicted_probability_mlpbag'] = y_prob[:,1]\n",
    "clear_output()\n",
    "x = df_movies_main_2019.sort_values(by='predicted_probability_mlpbag', ascending=False).head(10)\n",
    "# print(bag.best_params_)\n",
    "x = x.iloc[::-1,:]\n",
    "plt.barh(x['title'], x['predicted_probability_mlpbag'])\n",
    "\n",
    "\n",
    "\n",
    "# df_movies_main_2019.loc[:,'predicted_probability_mlpbag'] = y_prob[:,1]\n",
    "# # df_movies_main_2019[['imdbID','title','year','predicted_probability']][y_pred == 1]\n",
    "# df_movies_main_2019[['imdbID','title','year','predicted_probability']].sort_values(by = 'predicted_probability',\n",
    "#                                                                                                ascending=False)\n",
    "# clear_output()\n",
    "# df_movies_main_2019[['imdbID','title','year','predicted_probability']].sort_values(by = 'predicted_probability',\n",
    "#                                                                                    ascending=False).head(10)\n",
    "                                                                                   "
   ]
  },
  {
   "cell_type": "code",
   "execution_count": null,
   "metadata": {},
   "outputs": [],
   "source": []
  },
  {
   "cell_type": "code",
   "execution_count": 114,
   "metadata": {},
   "outputs": [
    {
     "data": {
      "text/plain": [
       "Index(['imdbID', 'title', 'year', 'n_votes', 'imdb_rating', 'budget',\n",
       "       'box_office', 'cast', 'genre', 'running_time', 'inflation_factor',\n",
       "       'budget_adjusted', 'budget_per_actor', 'budget_per_time',\n",
       "       'runtime_per_actor', 'percent_revenue', 'total_ratings', 'book', 'sup',\n",
       "       'hor', 'com', 'spy', 'his', 'war', 'psy', 'rom', 'mon', 'fan', 'mus',\n",
       "       'pol', 'bio', 'sci', 'act', 'dra', 'dis', 'adv', 'mys', 'thr', 'dys',\n",
       "       'cri', 'epi', 'oth', 'ani', 'based_on_book', 'other', 'prescore',\n",
       "       'postscore', 'precount_wins', 'precount_noms', 'box_office_adjusted',\n",
       "       'predicted_probability', 'predicted_probability_rfc',\n",
       "       'predicted_probability_knn', 'predicted_probability_bag',\n",
       "       'predicted_probability_ada', 'predicted_probability_mlp',\n",
       "       'predicted_probability_mlpbag'],\n",
       "      dtype='object')"
      ]
     },
     "execution_count": 114,
     "metadata": {},
     "output_type": "execute_result"
    }
   ],
   "source": [
    "df_movies_main_2019.columns"
   ]
  },
  {
   "cell_type": "markdown",
   "metadata": {},
   "source": [
    "# The Grand Average Prediction"
   ]
  },
  {
   "cell_type": "code",
   "execution_count": 124,
   "metadata": {},
   "outputs": [
    {
     "data": {
      "text/plain": [
       "([0, 1, 2, 3, 4, 5, 6, 7, 8, 9], <a list of 10 Text xticklabel objects>)"
      ]
     },
     "execution_count": 124,
     "metadata": {},
     "output_type": "execute_result"
    },
    {
     "data": {
      "image/png": "[encoded data removed]",
      "text/plain": [
       "<Figure size 432x288 with 1 Axes>"
      ]
     },
     "metadata": {
      "needs_background": "light"
     },
     "output_type": "display_data"
    }
   ],
   "source": [
    "df_movies_main_2019['final_proba'] = df_movies_main_2019[['predicted_probability_rfc',\n",
    "       'predicted_probability_knn', 'predicted_probability_bag',\n",
    "       'predicted_probability_ada', 'predicted_probability_mlp',\n",
    "       'predicted_probability_mlpbag']].prod(axis=1)\n",
    "df_movies_main_2019.columns\n",
    "x = df_movies_main_2019.sort_values(by='final_proba', ascending=False).head(10)\n",
    "# print(bag.best_params_)\n",
    "# x = x.iloc[::-1,:]\n",
    "plt.bar(x['title'], x['final_proba'])\n",
    "plt.xticks(rotation=90)\n"
   ]
  },
  {
   "cell_type": "code",
   "execution_count": null,
   "metadata": {},
   "outputs": [],
   "source": []
  },
  {
   "cell_type": "code",
   "execution_count": null,
   "metadata": {},
   "outputs": [],
   "source": []
  }
 ],
 "metadata": {
  "kernelspec": {
   "display_name": "Python 3",
   "language": "python",
   "name": "python3"
  },
  "language_info": {
   "codemirror_mode": {
    "name": "ipython",
    "version": 3
   },
   "file_extension": ".py",
   "mimetype": "text/x-python",
   "name": "python",
   "nbconvert_exporter": "python",
   "pygments_lexer": "ipython3",
   "version": "3.7.4"
  }
 },
 "nbformat": 4,
 "nbformat_minor": 2
}
