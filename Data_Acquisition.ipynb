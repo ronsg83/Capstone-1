{
 "cells": [
  {
   "cell_type": "code",
   "execution_count": 1,
   "metadata": {},
   "outputs": [],
   "source": [
    "# Import all necessary libraries\n",
    "import pandas as pd\n",
    "import numpy as np\n",
    "import requests\n",
    "import wikipedia\n",
    "from bs4 import BeautifulSoup\n",
    "from urllib.request import urlopen\n",
    "import re\n"
   ]
  },
  {
   "cell_type": "markdown",
   "metadata": {},
   "source": [
    "# 1.0 Data Acquisition\n",
    "\n",
    "Data will be acquired using two different approaches. First, movie datasets will be harvested from websites like Kaggle, Dataworld and statscrunch. Second, we will use the wikipedia API to extract basic movie information from the wikipedia page to fill in missing information about budget, running time and box office revenues. \n",
    "\n",
    "## 1.1. Reading directly from files\n",
    "We will create pandas tables from structured datasets containing information about Academy Award nominations and wins, IMDB ratings and budget/box office "
   ]
  },
  {
   "cell_type": "code",
   "execution_count": 2,
   "metadata": {},
   "outputs": [],
   "source": [
    "## Reading from cvs and excel files\n",
    "df_actor = pd.read_csv('Movies/Oscar_data/actors.csv')\n",
    "df_actress = pd.read_csv('Movies/Oscar_data/actresses.csv')\n",
    "df_oscar = pd.read_csv('Movies/oscar_database.csv')\n",
    "df_budget = pd.read_excel('Movies/statcrunch_budgetboxoffice.xlsx')\n",
    "df_imdb = pd.read_excel('Movies/statcrunch_IMDB.xlsx')"
   ]
  },
  {
   "cell_type": "markdown",
   "metadata": {},
   "source": [
    "# 1.2 Webscraping using wikipedia API\n",
    "\n",
    "We will use the wikipedia API to obtain information about the cast running time, budget and box office revenues"
   ]
  },
  {
   "cell_type": "code",
   "execution_count": 3,
   "metadata": {},
   "outputs": [],
   "source": [
    "# Define function fr obtaining movie data using omdb API\n",
    "def omdbapi(title):\n",
    "    if not isinstance(title, str):\n",
    "        return {}\n",
    "    \n",
    "    url_base = 'http://www.omdbapi.com/?i=tt3896198&apikey=5db77b44&'\n",
    "    url = url_base + 't=' + str(title)\n",
    "    r = requests.get(url)\n",
    "    json_data = r.json()\n",
    "    return json_data\n",
    "\n",
    "# OMDB API returns the following keys: dict_keys(['Title', 'Year', 'Rated', 'Released', \n",
    "# 'Runtime', 'Genre', 'Director', 'Writer', 'Actors', 'Plot', 'Language', 'Country', \n",
    "# 'Awards', 'Poster', 'Ratings', 'Metascore', 'imdbRating', 'imdbVotes', 'imdbID', 'Type', \n",
    "# 'DVD', 'BoxOffice', 'Production', 'Website', 'Response'])\n",
    "\n",
    "\n",
    "    "
   ]
  },
  {
   "cell_type": "markdown",
   "metadata": {},
   "source": [
    "# WIkipedia API\n",
    "## Function that calls the wikipedia API\n",
    "## Function that accepst the infobox as a string and returns budget and box office"
   ]
  },
  {
   "cell_type": "code",
   "execution_count": 29,
   "metadata": {},
   "outputs": [],
   "source": [
    "## WIKIPEDIA API Function\n",
    "\n",
    "# Define function fr obtaining movie data using Wikipedia API\n",
    "def wikiapi(title):\n",
    "    title = title + '(film)'\n",
    "    return wikipedia.page(title)\n",
    "\n",
    "# Get budget and box office info from the wikipedia infobox\n",
    "def budget_box_office(mystring):\n",
    "\n",
    "    pattern1 = re.compile(r'\\$')\n",
    "    pattern2 = re.compile(r'million')\n",
    "    matches1 = list(pattern1.finditer(mystring))\n",
    "    matches2 = list(pattern2.finditer(mystring))\n",
    "    if len(matches1) !=len(matches2):\n",
    "        print('Error: lengths dont match up!')\n",
    "    \n",
    "\n",
    "\n",
    "    money_dict = {}\n",
    "    for match1, match2 in zip(matches1, matches2):\n",
    "        xstart1,xstop1 = match1.span()\n",
    "        xstart2,xstop2 = match2.span()\n",
    "        money = mystring[xstop1:(xstart2-1)]\n",
    "        if 'budget' in mystring[xstart1-30:xstart1]:\n",
    "            money_dict['budget']=float(money)\n",
    "        elif 'box' in mystring[xstart1-30:xstart1]:\n",
    "            money_dict['box office']=float(money)\n",
    "        return money_dict"
   ]
  },
  {
   "cell_type": "code",
   "execution_count": 30,
   "metadata": {},
   "outputs": [],
   "source": [
    "# Non-API: This function gets wikipedia info without the Wikipedia API\n",
    "def wikiscrape(title):\n",
    "    url = 'https://en.wikipedia.org/wiki/' + title\n",
    "    my_client = urlopen(url)\n",
    "    page_html = my_client.read()\n",
    "    my_client.close()\n",
    "    return page_html"
   ]
  },
  {
   "cell_type": "code",
   "execution_count": 31,
   "metadata": {},
   "outputs": [],
   "source": [
    "movie = 'Lawrence of Arabia (film)'\n",
    "# x = omdbapi(movie)\n"
   ]
  },
  {
   "cell_type": "code",
   "execution_count": 32,
   "metadata": {},
   "outputs": [
    {
     "name": "stdout",
     "output_type": "stream",
     "text": [
      "[<tr><th class=\"summary\" colspan=\"2\" style=\"text-align:center;font-size:125%;font-weight:bold;font-size:110%;font-style:italic;\">lawrence of arabia</th></tr>, <tr><td colspan=\"2\" style=\"text-align:center\"><a class=\"image\" href=\"/wiki/file:lawrence_of_arabia_ver3_xxlg.jpg\"><img alt=\"lawrence of arabia ver3 xxlg.jpg\" class=\"thumbborder\" data-file-height=\"2924\" data-file-width=\"1920\" decoding=\"async\" height=\"335\" src=\"//upload.wikimedia.org/wikipedia/commons/thumb/c/c5/lawrence_of_arabia_ver3_xxlg.jpg/220px-lawrence_of_arabia_ver3_xxlg.jpg\" srcset=\"//upload.wikimedia.org/wikipedia/commons/thumb/c/c5/lawrence_of_arabia_ver3_xxlg.jpg/330px-lawrence_of_arabia_ver3_xxlg.jpg 1.5x, //upload.wikimedia.org/wikipedia/commons/thumb/c/c5/lawrence_of_arabia_ver3_xxlg.jpg/440px-lawrence_of_arabia_ver3_xxlg.jpg 2x\" width=\"220\"/></a><div style=\"font-size:95%;padding:0.35em 0.35em 0.25em;line-height:1.25em;\">theatrical release poster by <a href=\"/wiki/howard_terpning\" title=\"howard terpning\">howard terpning</a></div></td></tr>, <tr><th scope=\"row\" style=\"white-space:nowrap;padding-right:0.65em;\">directed by</th><td><a href=\"/wiki/david_lean\" title=\"david lean\">david lean</a></td></tr>, <tr><th scope=\"row\" style=\"white-space:nowrap;padding-right:0.65em;\">produced by</th><td><a href=\"/wiki/sam_spiegel\" title=\"sam spiegel\">sam spiegel</a></td></tr>, <tr><th scope=\"row\" style=\"white-space:nowrap;padding-right:0.65em;\">screenplay by</th><td><div class=\"plainlist\">\n",
      "<ul><li><a href=\"/wiki/robert_bolt\" title=\"robert bolt\">robert bolt</a></li>\n",
      "<li><a href=\"/wiki/michael_wilson_(writer)\" title=\"michael wilson (writer)\">michael wilson</a></li></ul>\n",
      "</div></td></tr>, <tr><th scope=\"row\" style=\"white-space:nowrap;padding-right:0.65em;\">based on</th><td><i><a href=\"/wiki/seven_pillars_of_wisdom\" title=\"seven pillars of wisdom\">seven pillars of wisdom</a></i><br/>by <a href=\"/wiki/t._e._lawrence\" title=\"t. e. lawrence\">t. e. lawrence</a></td></tr>, <tr><th scope=\"row\" style=\"white-space:nowrap;padding-right:0.65em;\">starring</th><td><div class=\"plainlist\">\n",
      "<ul><li><a href=\"/wiki/alec_guinness\" title=\"alec guinness\">alec guinness</a></li>\n",
      "<li><a href=\"/wiki/anthony_quinn\" title=\"anthony quinn\">anthony quinn</a></li>\n",
      "<li><a href=\"/wiki/jack_hawkins\" title=\"jack hawkins\">jack hawkins</a></li>\n",
      "<li><a href=\"/wiki/jos%c3%a9_ferrer\" title=\"josé ferrer\">josé ferrer</a></li>\n",
      "<li><a href=\"/wiki/anthony_quayle\" title=\"anthony quayle\">anthony quayle</a></li>\n",
      "<li><a href=\"/wiki/claude_rains\" title=\"claude rains\">claude rains</a></li>\n",
      "<li><a href=\"/wiki/arthur_kennedy\" title=\"arthur kennedy\">arthur kennedy</a></li>\n",
      "<li><a href=\"/wiki/omar_sharif\" title=\"omar sharif\">omar sharif</a></li>\n",
      "<li><a href=\"/wiki/peter_o%27toole\" title=\"peter o'toole\">peter o'toole</a></li></ul>\n",
      "</div></td></tr>, <tr><th scope=\"row\" style=\"white-space:nowrap;padding-right:0.65em;\">music by</th><td><a href=\"/wiki/maurice_jarre\" title=\"maurice jarre\">maurice jarre</a></td></tr>, <tr><th scope=\"row\" style=\"white-space:nowrap;padding-right:0.65em;\">cinematography</th><td><a href=\"/wiki/freddie_young\" title=\"freddie young\">f.a. young</a></td></tr>, <tr><th scope=\"row\" style=\"white-space:nowrap;padding-right:0.65em;\">edited by</th><td><a href=\"/wiki/anne_v._coates\" title=\"anne v. coates\">anne v. coates</a></td></tr>, <tr><th scope=\"row\" style=\"white-space:nowrap;padding-right:0.65em;\"><div style=\"padding:0.1em 0;line-height:1.2em;\">production<br/>company </div></th><td><div style=\"vertical-align:middle;\"><a href=\"/wiki/horizon_pictures\" title=\"horizon pictures\">horizon pictures</a><sup class=\"reference\" id=\"cite_ref-lawrence_of_arabia_1962_1-0\"><a href=\"#cite_note-lawrence_of_arabia_1962-1\">[1]</a></sup> </div></td></tr>, <tr><th scope=\"row\" style=\"white-space:nowrap;padding-right:0.65em;\">distributed by</th><td><a href=\"/wiki/columbia_pictures\" title=\"columbia pictures\">columbia pictures</a><sup class=\"reference\" id=\"cite_ref-lawrence_of_arabia_1962_1-1\"><a href=\"#cite_note-lawrence_of_arabia_1962-1\">[1]</a></sup></td></tr>, <tr><th scope=\"row\" style=\"white-space:nowrap;padding-right:0.65em;\"><div style=\"padding:0.1em 0;line-height:1.2em;white-space:normal;\">release date</div></th><td><div class=\"plainlist\">\n",
      "<ul><li>10 december 1962<span style=\"display:none\"> (<span class=\"bday dtstart published updated\">1962-12-10</span>)</span></li></ul>\n",
      "</div></td></tr>, <tr><th scope=\"row\" style=\"white-space:nowrap;padding-right:0.65em;\"><div style=\"padding:0.1em 0;line-height:1.2em;white-space:normal;\">running time</div></th><td>180 or 220–222 minutes<sup class=\"reference\" id=\"cite_ref-lawrence_of_arabia_1962_1-2\"><a href=\"#cite_note-lawrence_of_arabia_1962-1\">[1]</a></sup></td></tr>, <tr><th scope=\"row\" style=\"white-space:nowrap;padding-right:0.65em;\">country</th><td><div class=\"plainlist\">\n",
      "<ul><li>united kingdom<sup class=\"reference\" id=\"cite_ref-britannica.com_2-0\"><a href=\"#cite_note-britannica.com-2\">[2]</a></sup><sup class=\"reference\" id=\"cite_ref-bfi.org.uk_3-0\"><a href=\"#cite_note-bfi.org.uk-3\">[3]</a></sup><sup class=\"reference\" id=\"cite_ref-4\"><a href=\"#cite_note-4\">[4]</a></sup></li></ul>\n",
      "</div></td></tr>, <tr><th scope=\"row\" style=\"white-space:nowrap;padding-right:0.65em;\">language</th><td>english</td></tr>, <tr><th scope=\"row\" style=\"white-space:nowrap;padding-right:0.65em;\">budget</th><td>$15 million<sup class=\"reference\" id=\"cite_ref-numbers_5-0\"><a href=\"#cite_note-numbers-5\">[5]</a></sup></td></tr>, <tr><th scope=\"row\" style=\"white-space:nowrap;padding-right:0.65em;\">box office</th><td>$70 million<sup class=\"reference\" id=\"cite_ref-numbers_5-1\"><a href=\"#cite_note-numbers-5\">[5]</a></sup></td></tr>]\n",
      "5633\n",
      "{'budget': 15.0}\n"
     ]
    }
   ],
   "source": [
    "# Using the wikipedia API to get the movie\n",
    "# Just like the search field, we do not have to provide exact name\n",
    "# We then parse the page using BeautifulSoup \n",
    "page = wikiapi(movie)\n",
    "soup = BeautifulSoup(page.html(),'html.parser')\n",
    "\n",
    "\n",
    "# Now find the infobox table within the page and extrcat it. \n",
    "# Ref: https://stackoverflow.com/questions/52913838/how-to-automate-scraping-wikipedia-info-box-specifically-and-print-the-data-usin?noredirect=1&lq=1\n",
    "table = soup.find('table', attrs={'class': 'infobox vevent'})\n",
    "infobox = table.find_all('tr')\n",
    "infobox = str(infobox).lower()\n",
    "# print(type(infobox))\n",
    "print(infobox)\n",
    "print(len(infobox))\n",
    "finances = budget_box_office(infobox)\n",
    "print(finances)\n",
    "\n",
    "\n"
   ]
  },
  {
   "cell_type": "code",
   "execution_count": 6,
   "metadata": {},
   "outputs": [
    {
     "name": "stdout",
     "output_type": "stream",
     "text": [
      "/a></sup></td></tr>]\n"
     ]
    }
   ],
   "source": [
    "print(infobox[-20:])"
   ]
  },
  {
   "cell_type": "code",
   "execution_count": 21,
   "metadata": {},
   "outputs": [
    {
     "name": "stdout",
     "output_type": "stream",
     "text": [
      "{'li', 'ul', 'a', 'sp', 'im', 'su', 'tr', 'td', 'br', 'i>', 'th', 'di'}\n"
     ]
    }
   ],
   "source": [
    "## Extracting all the tags\n",
    "pattern = re.compile(r'<')\n",
    "matches = list(pattern.finditer(infobox))\n",
    "tags = list()\n",
    "for match in matches:\n",
    "    x,y = match.span()\n",
    "    if infobox[y] == '/':\n",
    "        continue\n",
    "    else:\n",
    "        tags.append(infobox[y:(y+2)].strip())\n",
    "print(set(tags))\n",
    "\n"
   ]
  },
  {
   "cell_type": "code",
   "execution_count": null,
   "metadata": {},
   "outputs": [],
   "source": [
    "\n"
   ]
  },
  {
   "cell_type": "code",
   "execution_count": null,
   "metadata": {},
   "outputs": [],
   "source": []
  },
  {
   "cell_type": "code",
   "execution_count": null,
   "metadata": {},
   "outputs": [],
   "source": []
  },
  {
   "cell_type": "code",
   "execution_count": null,
   "metadata": {},
   "outputs": [],
   "source": []
  },
  {
   "cell_type": "code",
   "execution_count": null,
   "metadata": {},
   "outputs": [],
   "source": []
  },
  {
   "cell_type": "code",
   "execution_count": null,
   "metadata": {},
   "outputs": [],
   "source": []
  },
  {
   "cell_type": "code",
   "execution_count": null,
   "metadata": {},
   "outputs": [],
   "source": []
  },
  {
   "cell_type": "code",
   "execution_count": null,
   "metadata": {},
   "outputs": [],
   "source": []
  }
 ],
 "metadata": {
  "kernelspec": {
   "display_name": "Python 3",
   "language": "python",
   "name": "python3"
  },
  "language_info": {
   "codemirror_mode": {
    "name": "ipython",
    "version": 3
   },
   "file_extension": ".py",
   "mimetype": "text/x-python",
   "name": "python",
   "nbconvert_exporter": "python",
   "pygments_lexer": "ipython3",
   "version": "3.7.3"
  }
 },
 "nbformat": 4,
 "nbformat_minor": 2
}
