{
 "cells": [
  {
   "cell_type": "markdown",
   "metadata": {},
   "source": [
    "# Prediction\n",
    "\n",
    "Having collected, cleaned and organized the data with information about ratings, cast, genre and past Oscar performances, we will now try to predict the winners and nominees. The approach that we take is the following. \n",
    "\n",
    "Because we have seen that a movie almost has to be in one of the three major categories -- drama, romance, comedy or biograpjy -- we will filter our data to only consider the movie that fall into oine of thes egenres. \n",
    "We will then use a variety of different models to predict the probabibility of win for the different movies. The movies will be sorted in descending order of win probabilities. \n",
    "\n",
    "Finally, we will take a aweighted average of al the prediction, weighted by the recall score, and use the grand average as our final prediction. "
   ]
  },
  {
   "cell_type": "code",
   "execution_count": 1,
   "metadata": {},
   "outputs": [],
   "source": [
    "# import necessary libraries\n",
    "import pandas as pd\n",
    "import collections\n",
    "import numpy as np\n",
    "import requests\n",
    "import wikipedia\n",
    "import re\n",
    "import matplotlib.pyplot as plt\n",
    "import seaborn as sns\n",
    "from bs4 import BeautifulSoup\n",
    "from urllib.request import urlopen\n",
    "from scrapy import selector\n",
    "import datetime as dt\n",
    "import pickle\n",
    "from skimage import io\n",
    "from IPython.display import clear_output\n",
    "%matplotlib inline\n",
    "\n",
    "# scikit learn\n",
    "from sklearn.linear_model import LogisticRegression\n",
    "from sklearn.model_selection import train_test_split\n",
    "from sklearn.metrics import classification_report \n",
    "from sklearn.metrics import confusion_matrix\n",
    "from sklearn.neighbors import KNeighborsClassifier\n",
    "from sklearn.model_selection import GridSearchCV \n",
    "from sklearn.naive_bayes import GaussianNB\n",
    "from sklearn.ensemble import RandomForestClassifier\n",
    "from sklearn.tree import DecisionTreeRegressor  \n",
    "from sklearn.ensemble import AdaBoostClassifier\n",
    "from sklearn.ensemble import BaggingClassifier\n",
    "from sklearn.neural_network import MLPClassifier\n",
    "from sklearn import preprocessing\n",
    "from sklearn.metrics import confusion_matrix"
   ]
  },
  {
   "cell_type": "code",
   "execution_count": 2,
   "metadata": {},
   "outputs": [],
   "source": [
    "DF_main = pd.read_csv('my_data/DF_MAIN.csv', index_col=[0])\n",
    "\n",
    "ID_columns = ['imdbID', 'title', 'year']\n",
    "basic_columns = ['cast_size', 'genre_span']\n",
    "all_genres = pickle.load(open(\"my_data/all_genres_omdb\",\"rb\"))\n",
    "all_genres.remove('adult')\n",
    "all_genres.remove('n/a')\n",
    "\n",
    "scores = ['n_votes','imdb_rating', 'metscore', 'rotten_tomatoes']\n",
    "awards_pre = ['precount_wins', 'precount_noms', 'other_wins', 'other_noms']\n",
    "awards_post = ['win', 'nom']\n",
    "\n",
    "predictor_columns = basic_columns + all_genres + scores + awards_pre\n",
    "target_columns = awards_post\n",
    "\n",
    "filters = (DF_main.drama==1)|((DF_main.comedy==1)|(DF_main.romance==1)|(DF_main.biography==1))\n",
    "DF_main = DF_main[filters]"
   ]
  },
  {
   "cell_type": "code",
   "execution_count": 3,
   "metadata": {},
   "outputs": [
    {
     "name": "stdout",
     "output_type": "stream",
     "text": [
      "The following 2019 movies are being considered:\n",
      "\n",
      "['avengers: endgame', 'toy story 4', 'frozen ii', 'it chapter two', \"a dog's way home\", 'glass', 'close', 'the lego movie 2: the second part', 'what men want', 'cold pursuit', 'high flying bird', \"isn't it romantic\", 'happy death day 2u', 'fighting with my family', 'triple frontier', 'wonder park', 'captive state', 'nancy drew and the hidden staircase', 'the aftermath', 'five feet apart', 'the highwaymen', 'the dirt', 'unplanned', 'shazam!', 'the best of enemies', 'the haunting of sharon tate', 'the silence', 'missing link', 'after', 'breakthrough', 'i trapped the devil', 'long shot', 'the intruder', 'uglydolls', 'extremely wicked, shockingly evil and vile', 'pokémon detective pikachu', 'the hustle', 'tolkien', 'poms', 'the professor and the madman', \"a dog's journey\", 'the sun is also a star', 'the souvenir', 'the tomorrow man', 'brightburn', 'always be my maybe', 'rocketman', 'the secret life of pets 2', 'late night', 'men in black: international', \"the dead don't die\", 'murder mystery', 'plus one', 'yesterday', 'midsommar', 'stuber', 'crawl', 'the farewell', 'once upon a time in hollywood', 'the red sea diving resort', 'a score to settle', 'the kitchen', 'the art of racing in the rain', 'the peanut butter falcon', 'light of my life', 'the angry birds movie 2', 'blinded by the light', 'good boys', \"where'd you go, bernadette\", '47 meters down: uncaged', 'ready or not', 'brittany runs a marathon', 'overcomer', 'official secrets', \"don't let go\", 'satanic panic', 'hustlers', 'ad astra', 'abominable', 'the laundromat', 'judy', 'joker', 'lucy in the sky', 'dolemite is my name', 'in the tall grass', 'low tide', 'wrinkles the clown', 'gemini man', 'the king', 'el camino: a breaking bad movie', 'zombieland: double tap', 'jojo rabbit', 'the lighthouse', 'wounds', 'black and blue', 'the kill team', 'motherless brooklyn', 'the irishman', 'harriet', 'arctic dogs', 'marriage story', 'doctor sleep', 'last christmas', 'playing with fire', 'klaus', 'ford v ferrari', 'the good liar', 'the report', 'waves', 'a beautiful day in the neighborhood', '21 bridges', 'knives out', 'the two popes', 'playmobil: the movie', 'the aeronauts', 'jumanji: the next level', 'uncut gems', 'seberg', 'a hidden life', 'spies in disguise', 'little women', '1917', 'the wolf hour', 'lancaster skies', 'the warrior queen of jhansi', 'the day shall come', \"fisherman's friends\", 'roads', 'little joe', 'diego maradona', 'mrs lowry & son', 'horrible histories: the movie – rotten romans', 'tell me who i am', 'moffie', 'the personal history of david copperfield', 'hope gap', 'military wives', 'radioactive', 'a shaun the sheep movie: farmageddon', \"the queen's corgi\"]\n"
     ]
    }
   ],
   "source": [
    "print('The following 2019 movies are being considered:\\n')\n",
    "print(list(DF_main.query(\"year == 2019\").title))"
   ]
  },
  {
   "cell_type": "code",
   "execution_count": 4,
   "metadata": {},
   "outputs": [],
   "source": [
    "def convert_to_pctile(X, columns):\n",
    "    \n",
    "    for col in columns:\n",
    "        x = np.array(X[col])\n",
    "        X[col] = [(len(np.where(x<=y)[0])/len(x)) for y in x]\n",
    "    return X\n",
    "\n",
    "def normalize_by_max(X, columns):\n",
    "    for col in columns:\n",
    "        x = np.array(X[col])\n",
    "        mx = np.max(x)\n",
    "        X[col] = x/mx\n",
    "    return X\n",
    "\n",
    "def top_N_each_year(df,N,feature):\n",
    "    df_ = pd.DataFrame()\n",
    "    for year in list(set(df.year)):\n",
    "        # print(year)\n",
    "        df_ = df_.append(df[df.year == year].sort_values(by = feature, ascending=False).head(N))\n",
    "    return df_\n",
    "\n",
    "def normalize_by_year(df, columns, _how = 'max'):\n",
    "    \n",
    "    if type(columns)!= list:\n",
    "        print(\"columns must be list\")\n",
    "        return dict()\n",
    "    years = list(set(df.year))\n",
    "\n",
    "    print(years)\n",
    "    \n",
    "    if _how == 'pctile':\n",
    "        df = convert_to_pctile(df, columns)\n",
    "        return df\n",
    "\n",
    "    for column in columns:\n",
    "        cols = ['year'] + [column]\n",
    "        for year in years:\n",
    "            if year%10 == 0:\n",
    "                clear_output() \n",
    "            print(year, column)\n",
    "            temp_df = df[(df.year == year)]\n",
    "            temp_df = temp_df[column]\n",
    "            ids = temp_df.index\n",
    "            \n",
    "            if _how == 'max':\n",
    "                df.loc[ids,column] = df.loc[ids,column]/temp_df.max()\n",
    "            if _how == 'minmax':\n",
    "                min_max_scaler = preprocessing.MinMaxScaler()\n",
    "                vals = df.loc[ids,column].values\n",
    "                # vals.shape = (len(vals),1)\n",
    "                print(vals.shape)\n",
    "                vals = vals[:,np.newaxis]\n",
    "                print(vals.shape)\n",
    "                scaled_array = min_max_scaler.fit_transform(vals)\n",
    "                df.loc[ids,column] = scaled_array\n",
    "            \n",
    "                \n",
    "    return df"
   ]
  },
  {
   "cell_type": "code",
   "execution_count": 5,
   "metadata": {},
   "outputs": [
    {
     "name": "stdout",
     "output_type": "stream",
     "text": [
      "2010 running_time\n",
      "2011 running_time\n",
      "2012 running_time\n",
      "2013 running_time\n",
      "2014 running_time\n",
      "2015 running_time\n",
      "2016 running_time\n",
      "2017 running_time\n",
      "2018 running_time\n",
      "2019 running_time\n"
     ]
    }
   ],
   "source": [
    "print(DF_main.columns)\n",
    "normalize_columns = ['n_votes', 'imdb_rating', 'metscore', 'rotten_tomatoes',\n",
    "                     'cast_size', 'genre_span', 'cast_size', 'running_time']\n",
    "# DF = normalize_by_year(DF_main, normalize_columns, 'max')\n",
    "DF = normalize_by_year(DF_main, normalize_columns, 'max')"
   ]
  },
  {
   "cell_type": "code",
   "execution_count": 6,
   "metadata": {},
   "outputs": [
    {
     "data": {
      "text/plain": [
       "Index(['imdbID', 'title', 'year', 'n_votes', 'imdb_rating', 'budget',\n",
       "       'box_office', 'cast_size', 'genre_span', 'running_time', 'metscore',\n",
       "       'rotten_tomatoes', 'other_wins', 'other_noms', 'precount_wins',\n",
       "       'precount_noms', 'win', 'nom', 'mystery', 'sci-fi', 'biography',\n",
       "       'comedy', 'news', 'talk-show', 'horror', 'documentary', 'thriller',\n",
       "       'short', 'crime', 'sport', 'war', 'animation', 'fantasy', 'musical',\n",
       "       'action', 'drama', 'history', 'western', 'game-show', 'romance',\n",
       "       'reality-tv', 'family', 'music', 'adventure', 'film-noir'],\n",
       "      dtype='object')"
      ]
     },
     "execution_count": 6,
     "metadata": {},
     "output_type": "execute_result"
    }
   ],
   "source": [
    "DF.columns"
   ]
  },
  {
   "cell_type": "code",
   "execution_count": 7,
   "metadata": {},
   "outputs": [
    {
     "name": "stdout",
     "output_type": "stream",
     "text": [
      "predictor columns: ['cast_size', 'genre_span', 'mystery', 'sci-fi', 'biography', 'comedy', 'news', 'talk-show', 'horror', 'documentary', 'thriller', 'short', 'crime', 'sport', 'war', 'animation', 'fantasy', 'musical', 'action', 'drama', 'history', 'western', 'game-show', 'romance', 'reality-tv', 'family', 'music', 'adventure', 'n_votes', 'imdb_rating', 'metscore', 'rotten_tomatoes', 'precount_wins', 'precount_noms', 'other_wins', 'other_noms']\n",
      "target columns: ['win', 'nom']\n",
      "y shape: (3532, 1)\n",
      "X_2019 shape: (140, 36)\n",
      "Class 0: 2342\n",
      "Class 1: 130\n",
      "2019:\n"
     ]
    }
   ],
   "source": [
    "DFX = DF[(DF.year >=1960)&(DF.year < 2019)][ID_columns + predictor_columns + target_columns]\n",
    "print(\"predictor columns:\",predictor_columns)\n",
    "print(\"target columns:\",target_columns)\n",
    "\n",
    "\n",
    "y = (DFX.win > 1)|(DFX.nom>3) # 2 wins of 4 nominations\n",
    "y = np.array([int(z) for z in y])\n",
    "DFX['target'] = y\n",
    "y = y[:,np.newaxis]\n",
    "print(\"y shape:\", y.shape)\n",
    "X = DFX[predictor_columns]\n",
    "\n",
    "DFX_2019 = DF[DF.year == 2019][ID_columns + predictor_columns + target_columns]\n",
    "X_2019 = DFX_2019[predictor_columns]\n",
    "print(\"X_2019 shape:\",X_2019.shape)\n",
    "\n",
    "\n",
    "X_train, X_test, y_train, y_test = train_test_split(X, y, test_size=0.3, random_state=0, stratify = y)\n",
    "print(\"Class 0:\", len(y_train[np.where(y_train == 0)]))\n",
    "print(\"Class 1:\", len(y_train[np.where(y_train == 1)]))\n",
    "print(\"2019:\", )\n",
    "\n",
    "\n",
    "\n"
   ]
  },
  {
   "cell_type": "code",
   "execution_count": 8,
   "metadata": {},
   "outputs": [
    {
     "data": {
      "text/html": [
       "<div>\n",
       "<style scoped>\n",
       "    .dataframe tbody tr th:only-of-type {\n",
       "        vertical-align: middle;\n",
       "    }\n",
       "\n",
       "    .dataframe tbody tr th {\n",
       "        vertical-align: top;\n",
       "    }\n",
       "\n",
       "    .dataframe thead th {\n",
       "        text-align: right;\n",
       "    }\n",
       "</style>\n",
       "<table border=\"1\" class=\"dataframe\">\n",
       "  <thead>\n",
       "    <tr style=\"text-align: right;\">\n",
       "      <th></th>\n",
       "      <th>cast_size</th>\n",
       "      <th>genre_span</th>\n",
       "      <th>mystery</th>\n",
       "      <th>sci-fi</th>\n",
       "      <th>biography</th>\n",
       "      <th>comedy</th>\n",
       "      <th>news</th>\n",
       "      <th>talk-show</th>\n",
       "      <th>horror</th>\n",
       "      <th>documentary</th>\n",
       "      <th>...</th>\n",
       "      <th>music</th>\n",
       "      <th>adventure</th>\n",
       "      <th>n_votes</th>\n",
       "      <th>imdb_rating</th>\n",
       "      <th>metscore</th>\n",
       "      <th>rotten_tomatoes</th>\n",
       "      <th>precount_wins</th>\n",
       "      <th>precount_noms</th>\n",
       "      <th>other_wins</th>\n",
       "      <th>other_noms</th>\n",
       "    </tr>\n",
       "  </thead>\n",
       "  <tbody>\n",
       "    <tr>\n",
       "      <td>7</td>\n",
       "      <td>0.909091</td>\n",
       "      <td>0.666667</td>\n",
       "      <td>0</td>\n",
       "      <td>0</td>\n",
       "      <td>0</td>\n",
       "      <td>0</td>\n",
       "      <td>0</td>\n",
       "      <td>0</td>\n",
       "      <td>0</td>\n",
       "      <td>0</td>\n",
       "      <td>...</td>\n",
       "      <td>0</td>\n",
       "      <td>0</td>\n",
       "      <td>1.000000</td>\n",
       "      <td>0.906977</td>\n",
       "      <td>0.833333</td>\n",
       "      <td>0.898990</td>\n",
       "      <td>1</td>\n",
       "      <td>2</td>\n",
       "      <td>115.0</td>\n",
       "      <td>80.0</td>\n",
       "    </tr>\n",
       "    <tr>\n",
       "      <td>119</td>\n",
       "      <td>0.208333</td>\n",
       "      <td>0.600000</td>\n",
       "      <td>0</td>\n",
       "      <td>0</td>\n",
       "      <td>0</td>\n",
       "      <td>0</td>\n",
       "      <td>0</td>\n",
       "      <td>0</td>\n",
       "      <td>0</td>\n",
       "      <td>0</td>\n",
       "      <td>...</td>\n",
       "      <td>0</td>\n",
       "      <td>0</td>\n",
       "      <td>0.977537</td>\n",
       "      <td>0.988764</td>\n",
       "      <td>0.836735</td>\n",
       "      <td>0.734694</td>\n",
       "      <td>3</td>\n",
       "      <td>2</td>\n",
       "      <td>42.0</td>\n",
       "      <td>73.0</td>\n",
       "    </tr>\n",
       "    <tr>\n",
       "      <td>120</td>\n",
       "      <td>0.307692</td>\n",
       "      <td>0.800000</td>\n",
       "      <td>1</td>\n",
       "      <td>0</td>\n",
       "      <td>0</td>\n",
       "      <td>0</td>\n",
       "      <td>0</td>\n",
       "      <td>0</td>\n",
       "      <td>0</td>\n",
       "      <td>0</td>\n",
       "      <td>...</td>\n",
       "      <td>0</td>\n",
       "      <td>0</td>\n",
       "      <td>0.819565</td>\n",
       "      <td>0.941860</td>\n",
       "      <td>0.711111</td>\n",
       "      <td>0.860000</td>\n",
       "      <td>0</td>\n",
       "      <td>0</td>\n",
       "      <td>32.0</td>\n",
       "      <td>48.0</td>\n",
       "    </tr>\n",
       "    <tr>\n",
       "      <td>175</td>\n",
       "      <td>0.250000</td>\n",
       "      <td>0.800000</td>\n",
       "      <td>0</td>\n",
       "      <td>0</td>\n",
       "      <td>1</td>\n",
       "      <td>0</td>\n",
       "      <td>0</td>\n",
       "      <td>0</td>\n",
       "      <td>0</td>\n",
       "      <td>0</td>\n",
       "      <td>...</td>\n",
       "      <td>0</td>\n",
       "      <td>1</td>\n",
       "      <td>0.917785</td>\n",
       "      <td>0.975610</td>\n",
       "      <td>0.800000</td>\n",
       "      <td>0.790000</td>\n",
       "      <td>3</td>\n",
       "      <td>4</td>\n",
       "      <td>88.0</td>\n",
       "      <td>185.0</td>\n",
       "    </tr>\n",
       "    <tr>\n",
       "      <td>187</td>\n",
       "      <td>0.363636</td>\n",
       "      <td>0.800000</td>\n",
       "      <td>0</td>\n",
       "      <td>0</td>\n",
       "      <td>0</td>\n",
       "      <td>0</td>\n",
       "      <td>0</td>\n",
       "      <td>0</td>\n",
       "      <td>0</td>\n",
       "      <td>0</td>\n",
       "      <td>...</td>\n",
       "      <td>0</td>\n",
       "      <td>0</td>\n",
       "      <td>0.196281</td>\n",
       "      <td>0.804598</td>\n",
       "      <td>0.559140</td>\n",
       "      <td>0.770833</td>\n",
       "      <td>0</td>\n",
       "      <td>0</td>\n",
       "      <td>16.0</td>\n",
       "      <td>23.0</td>\n",
       "    </tr>\n",
       "  </tbody>\n",
       "</table>\n",
       "<p>5 rows × 36 columns</p>\n",
       "</div>"
      ],
      "text/plain": [
       "     cast_size  genre_span  mystery  sci-fi  biography  comedy  news  \\\n",
       "7     0.909091    0.666667        0       0          0       0     0   \n",
       "119   0.208333    0.600000        0       0          0       0     0   \n",
       "120   0.307692    0.800000        1       0          0       0     0   \n",
       "175   0.250000    0.800000        0       0          1       0     0   \n",
       "187   0.363636    0.800000        0       0          0       0     0   \n",
       "\n",
       "     talk-show  horror  documentary  ...  music  adventure   n_votes  \\\n",
       "7            0       0            0  ...      0          0  1.000000   \n",
       "119          0       0            0  ...      0          0  0.977537   \n",
       "120          0       0            0  ...      0          0  0.819565   \n",
       "175          0       0            0  ...      0          1  0.917785   \n",
       "187          0       0            0  ...      0          0  0.196281   \n",
       "\n",
       "     imdb_rating  metscore  rotten_tomatoes  precount_wins  precount_noms  \\\n",
       "7       0.906977  0.833333         0.898990              1              2   \n",
       "119     0.988764  0.836735         0.734694              3              2   \n",
       "120     0.941860  0.711111         0.860000              0              0   \n",
       "175     0.975610  0.800000         0.790000              3              4   \n",
       "187     0.804598  0.559140         0.770833              0              0   \n",
       "\n",
       "     other_wins  other_noms  \n",
       "7         115.0        80.0  \n",
       "119        42.0        73.0  \n",
       "120        32.0        48.0  \n",
       "175        88.0       185.0  \n",
       "187        16.0        23.0  \n",
       "\n",
       "[5 rows x 36 columns]"
      ]
     },
     "execution_count": 8,
     "metadata": {},
     "output_type": "execute_result"
    }
   ],
   "source": [
    "X[y==1].head()"
   ]
  },
  {
   "cell_type": "code",
   "execution_count": 9,
   "metadata": {},
   "outputs": [],
   "source": [
    "name = []\n",
    "accuracy = []\n",
    "recall = []\n",
    "precision = []"
   ]
  },
  {
   "cell_type": "markdown",
   "metadata": {},
   "source": [
    "# Logistic Regression\n",
    "\n",
    "Because we are interested in obtaining probabilities for each film earning a nomination, and inferring the winner from these probabilities, the only linear model that was considered was Logistic Regression. Because Logistic regression uses the logistic function to model a binary dependent variable, the output of the model can be naturally interpreted as the probability of nomination or not. "
   ]
  },
  {
   "cell_type": "code",
   "execution_count": 10,
   "metadata": {},
   "outputs": [
    {
     "name": "stdout",
     "output_type": "stream",
     "text": [
      "{'C': 2.7825594022071245, 'penalty': 'l1'}\n",
      "0.9595130237825594\n",
      "              precision    recall  f1-score   support\n",
      "\n",
      "     class 0       0.96      0.99      0.97      1004\n",
      "     class 1       0.58      0.25      0.35        56\n",
      "\n",
      "    accuracy                           0.95      1060\n",
      "   macro avg       0.77      0.62      0.66      1060\n",
      "weighted avg       0.94      0.95      0.94      1060\n",
      "\n",
      "Confusion Matrix:\n",
      " [[994  10]\n",
      " [ 42  14]]\n"
     ]
    },
    {
     "data": {
      "image/png": "[encoded data removed]",
      "text/plain": [
       "<Figure size 432x288 with 1 Axes>"
      ]
     },
     "metadata": {
      "needs_background": "light"
     },
     "output_type": "display_data"
    }
   ],
   "source": [
    "log = LogisticRegression(random_state=0)\n",
    "penalty = ['l1', 'l2']\n",
    "C = np.logspace(0, 4, 10)\n",
    "hyperparameters = dict(C=C, penalty=penalty)\n",
    "log_cv = GridSearchCV(log, hyperparameters, cv=5, verbose=0)\n",
    "log_cv.fit(X, y)\n",
    "y_pred = log_cv.predict(X_2019)\n",
    "y_prob = log_cv.predict_proba(X_2019)[:,1]\n",
    "DFX_2019.loc[:,'predicted_probability_log'] = y_prob\n",
    "x = DFX_2019.sort_values(by='predicted_probability_log', ascending=False).head(10)\n",
    "clear_output()\n",
    "\n",
    "### Performance evaluation\n",
    "log_cv.fit(X_train, y_train)\n",
    "y_pred = log_cv.predict(X_test)\n",
    "target_names = ['class 0', 'class 1']\n",
    "clear_output() \n",
    "x = x.iloc[::-1,:]\n",
    "print(log_cv.best_params_)\n",
    "print(log_cv.score(X, y))\n",
    "plt.barh(x['title'], x['predicted_probability_log'])\n",
    "plt.xlabel('probability')\n",
    "print(classification_report(y_test, y_pred, target_names=target_names))\n",
    "print(\"Confusion Matrix:\\n\", confusion_matrix(y_test, y_pred))"
   ]
  },
  {
   "cell_type": "code",
   "execution_count": 11,
   "metadata": {},
   "outputs": [
    {
     "name": "stdout",
     "output_type": "stream",
     "text": [
      "['log'] [0.96] [0.25] [0.58]\n"
     ]
    }
   ],
   "source": [
    "name.append('log')\n",
    "accuracy.append(0.96)\n",
    "recall.append(0.25)\n",
    "precision.append(0.58)\n",
    "print(name, accuracy, recall, precision)"
   ]
  },
  {
   "cell_type": "markdown",
   "metadata": {},
   "source": [
    "## K Nearest neighbors classifier \n",
    "K nearest neighbor is a nonlinear classifier that provided straightforward approach to classify movies based on their proximity to previous winners and nominees. We used GridSearchCV() method from the utils package of scikit-learn module. Although several variations were available, we only performed grid search on the number parameters, whose optimal value was found to be 15. "
   ]
  },
  {
   "cell_type": "code",
   "execution_count": 12,
   "metadata": {},
   "outputs": [
    {
     "name": "stdout",
     "output_type": "stream",
     "text": [
      "{'n_neighbors': 5}\n",
      "0.9583805209513023\n",
      "              precision    recall  f1-score   support\n",
      "\n",
      "     class 0       0.96      0.98      0.97      1004\n",
      "     class 1       0.42      0.23      0.30        56\n",
      "\n",
      "    accuracy                           0.94      1060\n",
      "   macro avg       0.69      0.61      0.63      1060\n",
      "weighted avg       0.93      0.94      0.93      1060\n",
      "\n",
      "Confusion Matrix:\n",
      " [[986  18]\n",
      " [ 43  13]]\n"
     ]
    },
    {
     "data": {
      "image/png": "[encoded data removed]",
      "text/plain": [
       "<Figure size 432x288 with 1 Axes>"
      ]
     },
     "metadata": {
      "needs_background": "light"
     },
     "output_type": "display_data"
    }
   ],
   "source": [
    "# KNN Training\n",
    "knn = KNeighborsClassifier(n_neighbors=5)\n",
    "param_grid = {'n_neighbors': np.arange(1, 30)} \n",
    "knn_cv = GridSearchCV(knn, param_grid, cv=5) \n",
    "# knn.fit(X, y) \n",
    "knn_cv.fit(X, y)\n",
    "\n",
    "# KNN prediction\n",
    "y_pred = knn_cv.predict(X_2019)\n",
    "y_prob = knn_cv.predict_proba(X_2019)\n",
    "DFX_2019.loc[:,'predicted_probability_knn'] = y_prob[:,1]\n",
    "x = DFX_2019.sort_values(by='predicted_probability_knn', ascending=False).head(10)\n",
    "clear_output()\n",
    "\n",
    "\n",
    "### Performance evaluation\n",
    "knn_cv.fit(X_train, y_train)\n",
    "y_pred = knn_cv.predict(X_test)\n",
    "target_names = ['class 0', 'class 1']\n",
    "clear_output() \n",
    "x = x.iloc[::-1,:]\n",
    "print(knn_cv.best_params_)\n",
    "print(knn_cv.score(X, y))\n",
    "plt.barh(x['title'], x['predicted_probability_knn'])\n",
    "plt.xlabel('probability')\n",
    "print(classification_report(y_test, y_pred, target_names=target_names))\n",
    "print(\"Confusion Matrix:\\n\", confusion_matrix(y_test, y_pred))\n"
   ]
  },
  {
   "cell_type": "code",
   "execution_count": 13,
   "metadata": {},
   "outputs": [
    {
     "name": "stdout",
     "output_type": "stream",
     "text": [
      "['log', 'knn'] [0.96, 0.96] [0.25, 0.23] [0.58, 0.42]\n"
     ]
    }
   ],
   "source": [
    "name.append('knn')\n",
    "accuracy.append(0.96)\n",
    "recall.append(0.23)\n",
    "precision.append(0.42)\n",
    "print(name, accuracy, recall, precision)"
   ]
  },
  {
   "cell_type": "markdown",
   "metadata": {},
   "source": [
    "# Random Forest Classifier"
   ]
  },
  {
   "cell_type": "code",
   "execution_count": 14,
   "metadata": {},
   "outputs": [
    {
     "name": "stdout",
     "output_type": "stream",
     "text": [
      "{'n_estimators': 80}\n",
      "0.9858437146092865\n",
      "              precision    recall  f1-score   support\n",
      "\n",
      "     class 0       0.96      0.99      0.98      1004\n",
      "     class 1       0.65      0.23      0.34        56\n",
      "\n",
      "    accuracy                           0.95      1060\n",
      "   macro avg       0.80      0.61      0.66      1060\n",
      "weighted avg       0.94      0.95      0.94      1060\n",
      "\n",
      "Confusion Matrix:\n",
      " [[997   7]\n",
      " [ 43  13]]\n"
     ]
    },
    {
     "data": {
      "image/png": "[encoded data removed]",
      "text/plain": [
       "<Figure size 432x288 with 1 Axes>"
      ]
     },
     "metadata": {
      "needs_background": "light"
     },
     "output_type": "display_data"
    }
   ],
   "source": [
    "rfc=RandomForestClassifier() # n_estimators=100)\n",
    "param_grid = {'n_estimators': np.arange(50,100,5)} \n",
    "rfc_cv = GridSearchCV(rfc, param_grid, cv=5) \n",
    "\n",
    "rfc_cv.fit(X,y)\n",
    "y_pred = rfc_cv.predict(X_2019)\n",
    "y_prob = rfc_cv.predict_proba(X_2019)\n",
    "DFX_2019.loc[:,'predicted_probability_rfc'] = y_prob[:,1]\n",
    "x = DFX_2019.sort_values(by='predicted_probability_rfc', ascending=False).head(10)\n",
    "\n",
    "### Performance evaluation\n",
    "rfc_cv.fit(X_train, y_train)\n",
    "y_pred = rfc_cv.predict(X_test)\n",
    "target_names = ['class 0', 'class 1']\n",
    "clear_output() \n",
    "x = x.iloc[::-1,:]\n",
    "print(rfc_cv.best_params_)\n",
    "print(rfc_cv.score(X, y))\n",
    "plt.barh(x['title'], x['predicted_probability_rfc'])\n",
    "plt.xlabel('probability')\n",
    "print(classification_report(y_test, y_pred, target_names=target_names))\n",
    "print(\"Confusion Matrix:\\n\", confusion_matrix(y_test, y_pred))\n"
   ]
  },
  {
   "cell_type": "code",
   "execution_count": 15,
   "metadata": {},
   "outputs": [
    {
     "name": "stdout",
     "output_type": "stream",
     "text": [
      "['log', 'knn', 'rfc'] [0.96, 0.96, 0.98] [0.25, 0.23, 0.23] [0.58, 0.42, 0.5]\n"
     ]
    }
   ],
   "source": [
    "name.append('rfc')\n",
    "accuracy.append(0.98)\n",
    "recall.append(0.23)\n",
    "precision.append(0.50)\n",
    "print(name, accuracy, recall, precision)"
   ]
  },
  {
   "cell_type": "markdown",
   "metadata": {},
   "source": [
    "# Ensemble Methods: Bag of KNN"
   ]
  },
  {
   "cell_type": "code",
   "execution_count": 16,
   "metadata": {},
   "outputs": [
    {
     "name": "stdout",
     "output_type": "stream",
     "text": [
      "0.953850509626274\n",
      "              precision    recall  f1-score   support\n",
      "\n",
      "     class 0       0.96      0.99      0.97      1004\n",
      "     class 1       0.46      0.21      0.29        56\n",
      "\n",
      "    accuracy                           0.95      1060\n",
      "   macro avg       0.71      0.60      0.63      1060\n",
      "weighted avg       0.93      0.95      0.94      1060\n",
      "\n",
      "Confusion Matrix:\n",
      " [[990  14]\n",
      " [ 44  12]]\n"
     ]
    },
    {
     "data": {
      "image/png": "[encoded data removed]",
      "text/plain": [
       "<Figure size 432x288 with 1 Axes>"
      ]
     },
     "metadata": {
      "needs_background": "light"
     },
     "output_type": "display_data"
    }
   ],
   "source": [
    "bag = BaggingClassifier(base_estimator=KNeighborsClassifier(n_neighbors=10), n_estimators=100, random_state=42)\n",
    "bag.fit(X, y)\n",
    "y_pred = bag.predict(X_2019)\n",
    "y_prob = bag.predict_proba(X_2019)\n",
    "DFX_2019.loc[:,'predicted_probability_bag'] = y_prob[:,1]\n",
    "clear_output()\n",
    "x = DFX_2019.sort_values(by='predicted_probability_bag', ascending=False).head(10)\n",
    "\n",
    "\n",
    "### Performance evaluation\n",
    "bag.fit(X_train, y_train)\n",
    "y_pred = bag.predict(X_test)\n",
    "target_names = ['class 0', 'class 1']\n",
    "clear_output() \n",
    "x = x.iloc[::-1,:]\n",
    "# print(bag.best_params_)\n",
    "print(bag.score(X, y))\n",
    "plt.barh(x['title'], x['predicted_probability_bag'])\n",
    "plt.xlabel('probability')\n",
    "print(classification_report(y_test, y_pred, target_names=target_names))\n",
    "print(\"Confusion Matrix:\\n\", confusion_matrix(y_test, y_pred))"
   ]
  },
  {
   "cell_type": "code",
   "execution_count": 17,
   "metadata": {},
   "outputs": [
    {
     "name": "stdout",
     "output_type": "stream",
     "text": [
      "['log', 'knn', 'rfc', 'bag'] [0.96, 0.96, 0.98, 0.95] [0.25, 0.23, 0.23, 0.21] [0.58, 0.42, 0.5, 0.46]\n"
     ]
    }
   ],
   "source": [
    "name.append('bag')\n",
    "accuracy.append(0.95)\n",
    "recall.append(0.21)\n",
    "precision.append(0.46)\n",
    "print(name, accuracy, recall, precision)"
   ]
  },
  {
   "cell_type": "markdown",
   "metadata": {},
   "source": [
    "# Adaptive Boosting (Adaboost)"
   ]
  },
  {
   "cell_type": "code",
   "execution_count": 18,
   "metadata": {},
   "outputs": [
    {
     "name": "stdout",
     "output_type": "stream",
     "text": [
      "0.970554926387316\n",
      "              precision    recall  f1-score   support\n",
      "\n",
      "     class 0       0.96      0.98      0.97      1004\n",
      "     class 1       0.54      0.34      0.42        56\n",
      "\n",
      "    accuracy                           0.95      1060\n",
      "   macro avg       0.75      0.66      0.70      1060\n",
      "weighted avg       0.94      0.95      0.94      1060\n",
      "\n",
      "Confusion Matrix:\n",
      " [[988  16]\n",
      " [ 37  19]]\n"
     ]
    },
    {
     "data": {
      "image/png": "[encoded data removed]",
      "text/plain": [
       "<Figure size 432x288 with 1 Axes>"
      ]
     },
     "metadata": {
      "needs_background": "light"
     },
     "output_type": "display_data"
    }
   ],
   "source": [
    "ada = AdaBoostClassifier(n_estimators=100, random_state=47)\n",
    "ada.fit(X, y)\n",
    "y_pred = ada.predict(X_2019)\n",
    "y_prob = ada.predict_proba(X_2019)\n",
    "\n",
    "DFX_2019.loc[:,'predicted_probability_ada'] = y_prob[:,1]\n",
    "clear_output()\n",
    "print(ada.score(X,y))\n",
    "x = DFX_2019.sort_values(by='predicted_probability_ada', ascending=False).head(10)\n",
    "# print(bag.best_params_)\n",
    "x = x.iloc[::-1,:]\n",
    "\n",
    "\n",
    "### Performance evaluation\n",
    "ada.fit(X_train, y_train)\n",
    "y_pred = ada.predict(X_test)\n",
    "target_names = ['class 0', 'class 1']\n",
    "clear_output() \n",
    "# print(ada.best_params_)\n",
    "print(ada.score(X, y))\n",
    "plt.barh(x['title'], x['predicted_probability_ada'])\n",
    "plt.xlabel('probability')\n",
    "print(classification_report(y_test, y_pred, target_names=target_names))\n",
    "print(\"Confusion Matrix:\\n\", confusion_matrix(y_test, y_pred))"
   ]
  },
  {
   "cell_type": "code",
   "execution_count": 19,
   "metadata": {},
   "outputs": [
    {
     "name": "stdout",
     "output_type": "stream",
     "text": [
      "['log', 'knn', 'rfc', 'bag', 'ada'] [0.96, 0.96, 0.98, 0.95, 0.97] [0.25, 0.23, 0.23, 0.21, 0.34] [0.58, 0.42, 0.5, 0.46, 0.54]\n"
     ]
    }
   ],
   "source": [
    "name.append('ada')\n",
    "accuracy.append(0.97)\n",
    "recall.append(0.34)\n",
    "precision.append(0.54)\n",
    "print(name, accuracy, recall, precision)"
   ]
  },
  {
   "cell_type": "markdown",
   "metadata": {},
   "source": [
    "# Neural Network"
   ]
  },
  {
   "cell_type": "code",
   "execution_count": 20,
   "metadata": {},
   "outputs": [
    {
     "name": "stdout",
     "output_type": "stream",
     "text": [
      "0.95158550396376\n",
      "              precision    recall  f1-score   support\n",
      "\n",
      "     class 0       0.95      0.99      0.97      1004\n",
      "     class 1       0.50      0.14      0.22        56\n",
      "\n",
      "    accuracy                           0.95      1060\n",
      "   macro avg       0.73      0.57      0.60      1060\n",
      "weighted avg       0.93      0.95      0.93      1060\n",
      "\n",
      "Confusion Matrix:\n",
      " [[996   8]\n",
      " [ 48   8]]\n"
     ]
    },
    {
     "data": {
      "image/png": "[encoded data removed]",
      "text/plain": [
       "<Figure size 432x288 with 1 Axes>"
      ]
     },
     "metadata": {
      "needs_background": "light"
     },
     "output_type": "display_data"
    }
   ],
   "source": [
    "mlp = MLPClassifier(solver='sgd', alpha=1e-5, hidden_layer_sizes=(10,10), max_iter=1000, random_state=41)\n",
    "mlp.fit(X, y)\n",
    "y_pred = mlp.predict(X_2019)\n",
    "y_prob = mlp.predict_proba(X_2019)\n",
    "# print(y_prob)\n",
    "# print(classifier.score)\n",
    "DFX_2019.loc[:,'predicted_probability_mlp'] = y_prob[:,1]\n",
    "clear_output()\n",
    "print(mlp.score(X, y))\n",
    "x = DFX_2019.sort_values(by='predicted_probability_mlp', ascending=False).head(10)\n",
    "x = x.iloc[::-1,:]\n",
    "\n",
    "\n",
    "### Performance evaluation\n",
    "mlp.fit(X_train, y_train)\n",
    "y_pred = mlp.predict(X_test)\n",
    "target_names = ['class 0', 'class 1']\n",
    "clear_output() \n",
    "print(mlp.score(X, y))\n",
    "plt.barh(x['title'], x['predicted_probability_mlp'])\n",
    "plt.xlabel('probability')\n",
    "print(classification_report(y_test, y_pred, target_names=target_names))\n",
    "print(\"Confusion Matrix:\\n\", confusion_matrix(y_test, y_pred))"
   ]
  },
  {
   "cell_type": "code",
   "execution_count": 21,
   "metadata": {},
   "outputs": [
    {
     "name": "stdout",
     "output_type": "stream",
     "text": [
      "['log', 'knn', 'rfc', 'bag', 'ada', 'mlp'] [0.96, 0.96, 0.98, 0.95, 0.97, 0.95] [0.25, 0.23, 0.23, 0.21, 0.34, 0.14] [0.58, 0.42, 0.5, 0.46, 0.54, 0.5]\n"
     ]
    }
   ],
   "source": [
    "name.append('mlp')\n",
    "accuracy.append(0.95)\n",
    "recall.append(0.14)\n",
    "precision.append(0.50)\n",
    "print(name, accuracy, recall, precision)"
   ]
  },
  {
   "cell_type": "markdown",
   "metadata": {},
   "source": [
    "# Ensemble of Neural Networks"
   ]
  },
  {
   "cell_type": "code",
   "execution_count": 22,
   "metadata": {},
   "outputs": [
    {
     "name": "stdout",
     "output_type": "stream",
     "text": [
      "0.9552661381653454\n",
      "              precision    recall  f1-score   support\n",
      "\n",
      "     class 0       0.96      0.99      0.97      1004\n",
      "     class 1       0.52      0.20      0.29        56\n",
      "\n",
      "    accuracy                           0.95      1060\n",
      "   macro avg       0.74      0.59      0.63      1060\n",
      "weighted avg       0.93      0.95      0.94      1060\n",
      "\n",
      "Confusion Matrix:\n",
      " [[994  10]\n",
      " [ 45  11]]\n"
     ]
    },
    {
     "data": {
      "image/png": "[encoded data removed]",
      "text/plain": [
       "<Figure size 432x288 with 1 Axes>"
      ]
     },
     "metadata": {
      "needs_background": "light"
     },
     "output_type": "display_data"
    }
   ],
   "source": [
    "mlp = MLPClassifier(solver='sgd')\n",
    "mlp_bag = BaggingClassifier(base_estimator=mlp, n_estimators=100, random_state=42).fit(X, y)\n",
    "y_pred = mlp_bag.predict(X_2019)\n",
    "y_prob = mlp_bag.predict_proba(X_2019)\n",
    "DFX_2019.loc[:,'predicted_probability_mlpbag'] = y_prob[:,1]\n",
    "x = DFX_2019.sort_values(by='predicted_probability_mlpbag', ascending=False).head(10)\n",
    "x = x.iloc[::-1,:]\n",
    "\n",
    "\n",
    "### Performance evaluation\n",
    "mlp_bag.fit(X_train, y_train)\n",
    "y_pred = mlp_bag.predict(X_test)\n",
    "target_names = ['class 0', 'class 1']\n",
    "clear_output() \n",
    "print(mlp_bag.score(X, y))\n",
    "plt.barh(x['title'], x['predicted_probability_mlpbag'])\n",
    "plt.xlabel('probability')\n",
    "print(classification_report(y_test, y_pred, target_names=target_names))\n",
    "print(\"Confusion Matrix:\\n\", confusion_matrix(y_test, y_pred))"
   ]
  },
  {
   "cell_type": "code",
   "execution_count": 23,
   "metadata": {},
   "outputs": [
    {
     "name": "stdout",
     "output_type": "stream",
     "text": [
      "['log', 'knn', 'rfc', 'bag', 'ada', 'mlp', 'mlpbag'] [0.96, 0.96, 0.98, 0.95, 0.97, 0.95, 0.96] [0.25, 0.23, 0.23, 0.21, 0.34, 0.14, 0.2] [0.58, 0.42, 0.5, 0.46, 0.54, 0.5, 0.52]\n"
     ]
    }
   ],
   "source": [
    "name.append('mlpbag')\n",
    "accuracy.append(0.96)\n",
    "recall.append(0.20)\n",
    "precision.append(0.52)\n",
    "print(name, accuracy, recall, precision)"
   ]
  },
  {
   "cell_type": "code",
   "execution_count": 28,
   "metadata": {},
   "outputs": [],
   "source": [
    "performance_df = pd.DataFrame({'classifier': name, 'accuracy':accuracy, 'recall':recall, 'precision':precision})\n",
    "performance_df.set_index('classifier', inplace=True)\n",
    "performance_df\n",
    "pickle.dump(performance_df,open('my_data/performance_df', \"wb\" ))\n"
   ]
  },
  {
   "cell_type": "markdown",
   "metadata": {},
   "source": [
    "# Grand Average Prediction"
   ]
  },
  {
   "cell_type": "code",
   "execution_count": 25,
   "metadata": {},
   "outputs": [
    {
     "data": {
      "text/plain": [
       "([0, 1, 2, 3, 4, 5, 6, 7, 8, 9], <a list of 10 Text xticklabel objects>)"
      ]
     },
     "execution_count": 25,
     "metadata": {},
     "output_type": "execute_result"
    },
    {
     "data": {
      "image/png": "[encoded data removed]",
      "text/plain": [
       "<Figure size 432x288 with 1 Axes>"
      ]
     },
     "metadata": {
      "needs_background": "light"
     },
     "output_type": "display_data"
    }
   ],
   "source": [
    "\n",
    "\n",
    "field = 'accuracy'\n",
    "DFX_2019['final_proba'] = 1\n",
    "DFX_2019['final_proba'] = DFX_2019['final_proba'] * DFX_2019['predicted_probability_log']*performance_df.loc['log',field] \n",
    "DFX_2019['final_proba'] = DFX_2019['final_proba'] * DFX_2019['predicted_probability_knn']*performance_df.loc['knn',field] \n",
    "DFX_2019['final_proba'] = DFX_2019['final_proba'] * DFX_2019['predicted_probability_rfc']*performance_df.loc['rfc',field] \n",
    "DFX_2019['final_proba'] = DFX_2019['final_proba'] * DFX_2019['predicted_probability_bag']*performance_df.loc['bag',field] \n",
    "DFX_2019['final_proba'] = DFX_2019['final_proba'] * DFX_2019['predicted_probability_ada']*performance_df.loc['ada',field] \n",
    "DFX_2019['final_proba'] = DFX_2019['final_proba'] * DFX_2019['predicted_probability_mlp']*performance_df.loc['mlp',field] \n",
    "DFX_2019['final_proba'] = DFX_2019['final_proba'] * DFX_2019['predicted_probability_mlpbag']*performance_df.loc['mlpbag',field] \n",
    "\n",
    "\n",
    "\n",
    "\n",
    "\n",
    "DFX_2019.columns\n",
    "x = DFX_2019.sort_values(by='final_proba', ascending=False).head(10)\n",
    "# print(bag.best_params_)\n",
    "# x = x.iloc[::-1,:]\n",
    "plt.bar(x['title'], x['final_proba'])\n",
    "plt.xticks(rotation=90)\n",
    "plt.ylabel('predicted\\nprobability')\n",
    "plt.xticks(rotation=45, horizontalalignment = 'right')\n",
    "\n"
   ]
  },
  {
   "cell_type": "code",
   "execution_count": 26,
   "metadata": {},
   "outputs": [
    {
     "data": {
      "text/plain": [
       "([0, 1, 2, 3, 4, 5, 6, 7, 8, 9], <a list of 10 Text xticklabel objects>)"
      ]
     },
     "execution_count": 26,
     "metadata": {},
     "output_type": "execute_result"
    },
    {
     "data": {
      "image/png": "[encoded data removed]",
      "text/plain": [
       "<Figure size 432x288 with 1 Axes>"
      ]
     },
     "metadata": {
      "needs_background": "light"
     },
     "output_type": "display_data"
    }
   ],
   "source": [
    "\n",
    "\n",
    "field = 'precision'\n",
    "DFX_2019['final_proba'] = 1\n",
    "DFX_2019['final_proba'] = DFX_2019['final_proba'] * DFX_2019['predicted_probability_log']*performance_df.loc['log',field] \n",
    "DFX_2019['final_proba'] = DFX_2019['final_proba'] * DFX_2019['predicted_probability_knn']*performance_df.loc['knn',field] \n",
    "DFX_2019['final_proba'] = DFX_2019['final_proba'] * DFX_2019['predicted_probability_rfc']*performance_df.loc['rfc',field] \n",
    "DFX_2019['final_proba'] = DFX_2019['final_proba'] * DFX_2019['predicted_probability_bag']*performance_df.loc['bag',field] \n",
    "DFX_2019['final_proba'] = DFX_2019['final_proba'] * DFX_2019['predicted_probability_ada']*performance_df.loc['ada',field] \n",
    "DFX_2019['final_proba'] = DFX_2019['final_proba'] * DFX_2019['predicted_probability_mlp']*performance_df.loc['mlp',field] \n",
    "DFX_2019['final_proba'] = DFX_2019['final_proba'] * DFX_2019['predicted_probability_mlpbag']*performance_df.loc['mlpbag',field] \n",
    "\n",
    "\n",
    "\n",
    "\n",
    "\n",
    "DFX_2019.columns\n",
    "x = DFX_2019.sort_values(by='final_proba', ascending=False).head(10)\n",
    "# print(bag.best_params_)\n",
    "# x = x.iloc[::-1,:]\n",
    "plt.bar(x['title'], x['final_proba'])\n",
    "plt.xticks(rotation=90)\n",
    "plt.ylabel('predicted\\nprobability')\n",
    "plt.xticks(rotation=45, horizontalalignment = 'right')\n",
    "\n"
   ]
  },
  {
   "cell_type": "code",
   "execution_count": 27,
   "metadata": {},
   "outputs": [
    {
     "data": {
      "text/plain": [
       "([0, 1, 2, 3, 4, 5, 6, 7, 8, 9], <a list of 10 Text xticklabel objects>)"
      ]
     },
     "execution_count": 27,
     "metadata": {},
     "output_type": "execute_result"
    },
    {
     "data": {
      "image/png": "[encoded data removed]",
      "text/plain": [
       "<Figure size 432x288 with 1 Axes>"
      ]
     },
     "metadata": {
      "needs_background": "light"
     },
     "output_type": "display_data"
    }
   ],
   "source": [
    "# DFX_2019['final_proba'] = DFX_2019[[\n",
    "#     'predicted_probability_log', 'predicted_probability_rfc',\n",
    "#        'predicted_probability_knn', 'predicted_probability_bag',\n",
    "#        'predicted_probability_ada', 'predicted_probability_mlp',\n",
    "#        'predicted_probability_mlpbag']].prod(axis=1)\n",
    "\n",
    "field = 'recall'\n",
    "DFX_2019['final_proba'] = 1\n",
    "DFX_2019['final_proba'] = DFX_2019['final_proba'] * DFX_2019['predicted_probability_log']*performance_df.loc['log',field] \n",
    "DFX_2019['final_proba'] = DFX_2019['final_proba'] * DFX_2019['predicted_probability_knn']*performance_df.loc['knn',field] \n",
    "DFX_2019['final_proba'] = DFX_2019['final_proba'] * DFX_2019['predicted_probability_rfc']*performance_df.loc['rfc',field] \n",
    "DFX_2019['final_proba'] = DFX_2019['final_proba'] * DFX_2019['predicted_probability_bag']*performance_df.loc['bag',field] \n",
    "DFX_2019['final_proba'] = DFX_2019['final_proba'] * DFX_2019['predicted_probability_ada']*performance_df.loc['ada',field] \n",
    "DFX_2019['final_proba'] = DFX_2019['final_proba'] * DFX_2019['predicted_probability_mlp']*performance_df.loc['mlp',field] \n",
    "DFX_2019['final_proba'] = DFX_2019['final_proba'] * DFX_2019['predicted_probability_mlpbag']*performance_df.loc['mlpbag',field] \n",
    "\n",
    "\n",
    "\n",
    "\n",
    "\n",
    "DFX_2019.columns\n",
    "x = DFX_2019.sort_values(by='final_proba', ascending=False).head(10)\n",
    "# print(bag.best_params_)\n",
    "# x = x.iloc[::-1,:]\n",
    "plt.bar(x['title'], x['final_proba'])\n",
    "plt.xticks(rotation=90)\n",
    "plt.ylabel('predicted\\nprobability')\n",
    "plt.xticks(rotation=45, horizontalalignment = 'right')\n",
    "\n"
   ]
  },
  {
   "cell_type": "code",
   "execution_count": null,
   "metadata": {},
   "outputs": [],
   "source": []
  }
 ],
 "metadata": {
  "kernelspec": {
   "display_name": "Python 3",
   "language": "python",
   "name": "python3"
  },
  "language_info": {
   "codemirror_mode": {
    "name": "ipython",
    "version": 3
   },
   "file_extension": ".py",
   "mimetype": "text/x-python",
   "name": "python",
   "nbconvert_exporter": "python",
   "pygments_lexer": "ipython3",
   "version": "3.7.4"
  }
 },
 "nbformat": 4,
 "nbformat_minor": 2
}
